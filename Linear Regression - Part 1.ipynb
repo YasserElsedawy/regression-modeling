{
 "cells": [
  {
   "cell_type": "code",
   "execution_count": 1,
   "metadata": {},
   "outputs": [
    {
     "data": {
      "text/html": [
       "        <script type=\"text/javascript\">\n",
       "        window.PlotlyConfig = {MathJaxConfig: 'local'};\n",
       "        if (window.MathJax) {MathJax.Hub.Config({SVG: {font: \"STIX-Web\"}});}\n",
       "        if (typeof require !== 'undefined') {\n",
       "        require.undef(\"plotly\");\n",
       "        requirejs.config({\n",
       "            paths: {\n",
       "                'plotly': ['https://cdn.plot.ly/plotly-latest.min']\n",
       "            }\n",
       "        });\n",
       "        require(['plotly'], function(Plotly) {\n",
       "            window._Plotly = Plotly;\n",
       "        });\n",
       "        }\n",
       "        </script>\n",
       "        "
      ]
     },
     "metadata": {},
     "output_type": "display_data"
    }
   ],
   "source": [
    "#Import our libraries \n",
    "import numpy as np\n",
    "import pandas as pd\n",
    "import statsmodels.api as sm\n",
    "import matplotlib.pyplot as plt\n",
    "import seaborn as sns\n",
    "import math\n",
    "import scipy as sp\n",
    "import cufflinks as cf\n",
    "from sklearn import metrics\n",
    "from sklearn.linear_model import LinearRegression\n",
    "from sklearn.model_selection import train_test_split\n",
    "%matplotlib inline\n",
    "cf.go_offline()"
   ]
  },
  {
   "cell_type": "code",
   "execution_count": 2,
   "metadata": {},
   "outputs": [
    {
     "data": {
      "text/html": [
       "<div>\n",
       "<style scoped>\n",
       "    .dataframe tbody tr th:only-of-type {\n",
       "        vertical-align: middle;\n",
       "    }\n",
       "\n",
       "    .dataframe tbody tr th {\n",
       "        vertical-align: top;\n",
       "    }\n",
       "\n",
       "    .dataframe thead th {\n",
       "        text-align: right;\n",
       "    }\n",
       "</style>\n",
       "<table border=\"1\" class=\"dataframe\">\n",
       "  <thead>\n",
       "    <tr style=\"text-align: right;\">\n",
       "      <th></th>\n",
       "      <th>Cities</th>\n",
       "      <th>Visitors yearly</th>\n",
       "      <th>Visitors to locals ratio</th>\n",
       "      <th>Employment</th>\n",
       "      <th>GDP</th>\n",
       "      <th>GDP per capita</th>\n",
       "      <th>Population</th>\n",
       "      <th>Foreign Population</th>\n",
       "      <th>Land area (km2)</th>\n",
       "      <th>Medium Size City Center Apartment Rent</th>\n",
       "      <th>AVG Net Salary</th>\n",
       "      <th>Air Quality score</th>\n",
       "      <th>Urban Greenery score</th>\n",
       "      <th>Life Expectancy</th>\n",
       "      <th># of Startups</th>\n",
       "    </tr>\n",
       "  </thead>\n",
       "  <tbody>\n",
       "    <tr>\n",
       "      <td>0</td>\n",
       "      <td>Paris</td>\n",
       "      <td>30000000.0</td>\n",
       "      <td>2.34</td>\n",
       "      <td>6031104.44</td>\n",
       "      <td>6.451210e+11</td>\n",
       "      <td>54092.72</td>\n",
       "      <td>12244807.0</td>\n",
       "      <td>2436631.82</td>\n",
       "      <td>105.4</td>\n",
       "      <td>1760.0</td>\n",
       "      <td>33212.08</td>\n",
       "      <td>0.32</td>\n",
       "      <td>0.51</td>\n",
       "      <td>82.43</td>\n",
       "      <td>3933.0</td>\n",
       "    </tr>\n",
       "    <tr>\n",
       "      <td>1</td>\n",
       "      <td>London</td>\n",
       "      <td>19233000.0</td>\n",
       "      <td>1.35</td>\n",
       "      <td>6268882.00</td>\n",
       "      <td>6.316394e+11</td>\n",
       "      <td>56184.49</td>\n",
       "      <td>14257962.0</td>\n",
       "      <td>4705127.46</td>\n",
       "      <td>1572.0</td>\n",
       "      <td>2200.0</td>\n",
       "      <td>39762.80</td>\n",
       "      <td>0.35</td>\n",
       "      <td>0.77</td>\n",
       "      <td>81.22</td>\n",
       "      <td>9805.0</td>\n",
       "    </tr>\n",
       "    <tr>\n",
       "      <td>2</td>\n",
       "      <td>Milano</td>\n",
       "      <td>12000000.0</td>\n",
       "      <td>2.77</td>\n",
       "      <td>2411689.56</td>\n",
       "      <td>2.511397e+11</td>\n",
       "      <td>49042.31</td>\n",
       "      <td>4336121.0</td>\n",
       "      <td>390250.89</td>\n",
       "      <td>181.8</td>\n",
       "      <td>1320.0</td>\n",
       "      <td>27439.28</td>\n",
       "      <td>0.29</td>\n",
       "      <td>0.40</td>\n",
       "      <td>82.69</td>\n",
       "      <td>355.0</td>\n",
       "    </tr>\n",
       "    <tr>\n",
       "      <td>3</td>\n",
       "      <td>Madrid</td>\n",
       "      <td>7000000.0</td>\n",
       "      <td>1.03</td>\n",
       "      <td>2855178.00</td>\n",
       "      <td>2.395026e+11</td>\n",
       "      <td>37049.76</td>\n",
       "      <td>6791667.0</td>\n",
       "      <td>1697916.75</td>\n",
       "      <td>604.3</td>\n",
       "      <td>1056.0</td>\n",
       "      <td>28155.60</td>\n",
       "      <td>0.31</td>\n",
       "      <td>0.58</td>\n",
       "      <td>82.83</td>\n",
       "      <td>1172.0</td>\n",
       "    </tr>\n",
       "    <tr>\n",
       "      <td>4</td>\n",
       "      <td>Munich</td>\n",
       "      <td>8800000.0</td>\n",
       "      <td>3.06</td>\n",
       "      <td>1480335.09</td>\n",
       "      <td>1.723709e+11</td>\n",
       "      <td>59869.56</td>\n",
       "      <td>5879107.0</td>\n",
       "      <td>518239.26</td>\n",
       "      <td>310.4</td>\n",
       "      <td>1584.0</td>\n",
       "      <td>42988.00</td>\n",
       "      <td>0.89</td>\n",
       "      <td>0.83</td>\n",
       "      <td>81.04</td>\n",
       "      <td>532.0</td>\n",
       "    </tr>\n",
       "  </tbody>\n",
       "</table>\n",
       "</div>"
      ],
      "text/plain": [
       "   Cities  Visitors yearly  Visitors to locals ratio  Employment  \\\n",
       "0   Paris       30000000.0                      2.34  6031104.44   \n",
       "1  London       19233000.0                      1.35  6268882.00   \n",
       "2  Milano       12000000.0                      2.77  2411689.56   \n",
       "3  Madrid        7000000.0                      1.03  2855178.00   \n",
       "4  Munich        8800000.0                      3.06  1480335.09   \n",
       "\n",
       "            GDP  GDP per capita  Population  Foreign Population  \\\n",
       "0  6.451210e+11        54092.72  12244807.0          2436631.82   \n",
       "1  6.316394e+11        56184.49  14257962.0          4705127.46   \n",
       "2  2.511397e+11        49042.31   4336121.0           390250.89   \n",
       "3  2.395026e+11        37049.76   6791667.0          1697916.75   \n",
       "4  1.723709e+11        59869.56   5879107.0           518239.26   \n",
       "\n",
       "   Land area (km2)  Medium Size City Center Apartment Rent  AVG Net Salary  \\\n",
       "0            105.4                                  1760.0        33212.08   \n",
       "1           1572.0                                  2200.0        39762.80   \n",
       "2            181.8                                  1320.0        27439.28   \n",
       "3            604.3                                  1056.0        28155.60   \n",
       "4            310.4                                  1584.0        42988.00   \n",
       "\n",
       "   Air Quality score  Urban Greenery score  Life Expectancy  # of Startups  \n",
       "0               0.32                  0.51            82.43         3933.0  \n",
       "1               0.35                  0.77            81.22         9805.0  \n",
       "2               0.29                  0.40            82.69          355.0  \n",
       "3               0.31                  0.58            82.83         1172.0  \n",
       "4               0.89                  0.83            81.04          532.0  "
      ]
     },
     "execution_count": 2,
     "metadata": {},
     "output_type": "execute_result"
    }
   ],
   "source": [
    "#Import the dataset\n",
    "data = pd.read_csv('cities dataset.csv')\n",
    "data.head()"
   ]
  },
  {
   "cell_type": "code",
   "execution_count": 3,
   "metadata": {},
   "outputs": [
    {
     "name": "stdout",
     "output_type": "stream",
     "text": [
      "<class 'pandas.core.frame.DataFrame'>\n",
      "RangeIndex: 42 entries, 0 to 41\n",
      "Data columns (total 15 columns):\n",
      "Cities                                    42 non-null object\n",
      "Visitors yearly                           42 non-null float64\n",
      "Visitors to locals ratio                  42 non-null float64\n",
      "Employment                                42 non-null float64\n",
      "GDP                                       42 non-null float64\n",
      "GDP per capita                            42 non-null float64\n",
      "Population                                42 non-null float64\n",
      "Foreign Population                        42 non-null float64\n",
      "Land area (km2)                           42 non-null float64\n",
      "Medium Size City Center Apartment Rent    42 non-null float64\n",
      "AVG Net Salary                            42 non-null float64\n",
      "Air Quality score                         42 non-null float64\n",
      "Urban Greenery score                      42 non-null float64\n",
      "Life Expectancy                           42 non-null float64\n",
      "# of Startups                             42 non-null float64\n",
      "dtypes: float64(14), object(1)\n",
      "memory usage: 5.0+ KB\n"
     ]
    }
   ],
   "source": [
    "#lets explore the data for a bit\n",
    "data.info()"
   ]
  },
  {
   "cell_type": "code",
   "execution_count": 4,
   "metadata": {},
   "outputs": [
    {
     "data": {
      "text/html": [
       "<div>\n",
       "<style scoped>\n",
       "    .dataframe tbody tr th:only-of-type {\n",
       "        vertical-align: middle;\n",
       "    }\n",
       "\n",
       "    .dataframe tbody tr th {\n",
       "        vertical-align: top;\n",
       "    }\n",
       "\n",
       "    .dataframe thead th {\n",
       "        text-align: right;\n",
       "    }\n",
       "</style>\n",
       "<table border=\"1\" class=\"dataframe\">\n",
       "  <thead>\n",
       "    <tr style=\"text-align: right;\">\n",
       "      <th></th>\n",
       "      <th>Visitors yearly</th>\n",
       "      <th>Visitors to locals ratio</th>\n",
       "      <th>Employment</th>\n",
       "      <th>GDP</th>\n",
       "      <th>GDP per capita</th>\n",
       "      <th>Population</th>\n",
       "      <th>Foreign Population</th>\n",
       "      <th>Land area (km2)</th>\n",
       "      <th>Medium Size City Center Apartment Rent</th>\n",
       "      <th>AVG Net Salary</th>\n",
       "      <th>Air Quality score</th>\n",
       "      <th>Urban Greenery score</th>\n",
       "      <th>Life Expectancy</th>\n",
       "      <th># of Startups</th>\n",
       "    </tr>\n",
       "  </thead>\n",
       "  <tbody>\n",
       "    <tr>\n",
       "      <td>Visitors yearly</td>\n",
       "      <td>1.000000</td>\n",
       "      <td>0.470115</td>\n",
       "      <td>0.543319</td>\n",
       "      <td>0.493782</td>\n",
       "      <td>-0.040580</td>\n",
       "      <td>0.463624</td>\n",
       "      <td>0.375083</td>\n",
       "      <td>0.393072</td>\n",
       "      <td>0.062125</td>\n",
       "      <td>-0.172128</td>\n",
       "      <td>-0.446479</td>\n",
       "      <td>-0.309404</td>\n",
       "      <td>0.023398</td>\n",
       "      <td>0.348117</td>\n",
       "    </tr>\n",
       "    <tr>\n",
       "      <td>Visitors to locals ratio</td>\n",
       "      <td>0.470115</td>\n",
       "      <td>1.000000</td>\n",
       "      <td>-0.226918</td>\n",
       "      <td>-0.235971</td>\n",
       "      <td>-0.222023</td>\n",
       "      <td>-0.307691</td>\n",
       "      <td>-0.235817</td>\n",
       "      <td>-0.032979</td>\n",
       "      <td>-0.108200</td>\n",
       "      <td>-0.128352</td>\n",
       "      <td>0.024442</td>\n",
       "      <td>0.018511</td>\n",
       "      <td>-0.111066</td>\n",
       "      <td>-0.160384</td>\n",
       "    </tr>\n",
       "    <tr>\n",
       "      <td>Employment</td>\n",
       "      <td>0.543319</td>\n",
       "      <td>-0.226918</td>\n",
       "      <td>1.000000</td>\n",
       "      <td>0.978098</td>\n",
       "      <td>0.256351</td>\n",
       "      <td>0.956174</td>\n",
       "      <td>0.881657</td>\n",
       "      <td>0.510750</td>\n",
       "      <td>0.296182</td>\n",
       "      <td>-0.049650</td>\n",
       "      <td>-0.504792</td>\n",
       "      <td>-0.224705</td>\n",
       "      <td>0.151255</td>\n",
       "      <td>0.839355</td>\n",
       "    </tr>\n",
       "    <tr>\n",
       "      <td>GDP</td>\n",
       "      <td>0.493782</td>\n",
       "      <td>-0.235971</td>\n",
       "      <td>0.978098</td>\n",
       "      <td>1.000000</td>\n",
       "      <td>0.372156</td>\n",
       "      <td>0.939568</td>\n",
       "      <td>0.884742</td>\n",
       "      <td>0.446053</td>\n",
       "      <td>0.375024</td>\n",
       "      <td>0.014991</td>\n",
       "      <td>-0.451424</td>\n",
       "      <td>-0.179268</td>\n",
       "      <td>0.174783</td>\n",
       "      <td>0.842792</td>\n",
       "    </tr>\n",
       "    <tr>\n",
       "      <td>GDP per capita</td>\n",
       "      <td>-0.040580</td>\n",
       "      <td>-0.222023</td>\n",
       "      <td>0.256351</td>\n",
       "      <td>0.372156</td>\n",
       "      <td>1.000000</td>\n",
       "      <td>0.290419</td>\n",
       "      <td>0.321221</td>\n",
       "      <td>0.015964</td>\n",
       "      <td>0.752116</td>\n",
       "      <td>0.658416</td>\n",
       "      <td>0.129231</td>\n",
       "      <td>0.142136</td>\n",
       "      <td>0.344628</td>\n",
       "      <td>0.314462</td>\n",
       "    </tr>\n",
       "    <tr>\n",
       "      <td>Population</td>\n",
       "      <td>0.463624</td>\n",
       "      <td>-0.307691</td>\n",
       "      <td>0.956174</td>\n",
       "      <td>0.939568</td>\n",
       "      <td>0.290419</td>\n",
       "      <td>1.000000</td>\n",
       "      <td>0.883135</td>\n",
       "      <td>0.538629</td>\n",
       "      <td>0.266737</td>\n",
       "      <td>-0.031766</td>\n",
       "      <td>-0.481557</td>\n",
       "      <td>-0.180933</td>\n",
       "      <td>0.133673</td>\n",
       "      <td>0.793890</td>\n",
       "    </tr>\n",
       "    <tr>\n",
       "      <td>Foreign Population</td>\n",
       "      <td>0.375083</td>\n",
       "      <td>-0.235817</td>\n",
       "      <td>0.881657</td>\n",
       "      <td>0.884742</td>\n",
       "      <td>0.321221</td>\n",
       "      <td>0.883135</td>\n",
       "      <td>1.000000</td>\n",
       "      <td>0.590391</td>\n",
       "      <td>0.354059</td>\n",
       "      <td>0.070160</td>\n",
       "      <td>-0.408437</td>\n",
       "      <td>-0.048933</td>\n",
       "      <td>0.116280</td>\n",
       "      <td>0.909262</td>\n",
       "    </tr>\n",
       "    <tr>\n",
       "      <td>Land area (km2)</td>\n",
       "      <td>0.393072</td>\n",
       "      <td>-0.032979</td>\n",
       "      <td>0.510750</td>\n",
       "      <td>0.446053</td>\n",
       "      <td>0.015964</td>\n",
       "      <td>0.538629</td>\n",
       "      <td>0.590391</td>\n",
       "      <td>1.000000</td>\n",
       "      <td>0.150932</td>\n",
       "      <td>-0.007205</td>\n",
       "      <td>-0.239246</td>\n",
       "      <td>0.089244</td>\n",
       "      <td>-0.126468</td>\n",
       "      <td>0.560939</td>\n",
       "    </tr>\n",
       "    <tr>\n",
       "      <td>Medium Size City Center Apartment Rent</td>\n",
       "      <td>0.062125</td>\n",
       "      <td>-0.108200</td>\n",
       "      <td>0.296182</td>\n",
       "      <td>0.375024</td>\n",
       "      <td>0.752116</td>\n",
       "      <td>0.266737</td>\n",
       "      <td>0.354059</td>\n",
       "      <td>0.150932</td>\n",
       "      <td>1.000000</td>\n",
       "      <td>0.829564</td>\n",
       "      <td>0.129578</td>\n",
       "      <td>0.185648</td>\n",
       "      <td>0.518906</td>\n",
       "      <td>0.423962</td>\n",
       "    </tr>\n",
       "    <tr>\n",
       "      <td>AVG Net Salary</td>\n",
       "      <td>-0.172128</td>\n",
       "      <td>-0.128352</td>\n",
       "      <td>-0.049650</td>\n",
       "      <td>0.014991</td>\n",
       "      <td>0.658416</td>\n",
       "      <td>-0.031766</td>\n",
       "      <td>0.070160</td>\n",
       "      <td>-0.007205</td>\n",
       "      <td>0.829564</td>\n",
       "      <td>1.000000</td>\n",
       "      <td>0.353947</td>\n",
       "      <td>0.297659</td>\n",
       "      <td>0.440937</td>\n",
       "      <td>0.079086</td>\n",
       "    </tr>\n",
       "    <tr>\n",
       "      <td>Air Quality score</td>\n",
       "      <td>-0.446479</td>\n",
       "      <td>0.024442</td>\n",
       "      <td>-0.504792</td>\n",
       "      <td>-0.451424</td>\n",
       "      <td>0.129231</td>\n",
       "      <td>-0.481557</td>\n",
       "      <td>-0.408437</td>\n",
       "      <td>-0.239246</td>\n",
       "      <td>0.129578</td>\n",
       "      <td>0.353947</td>\n",
       "      <td>1.000000</td>\n",
       "      <td>0.712862</td>\n",
       "      <td>-0.156839</td>\n",
       "      <td>-0.258577</td>\n",
       "    </tr>\n",
       "    <tr>\n",
       "      <td>Urban Greenery score</td>\n",
       "      <td>-0.309404</td>\n",
       "      <td>0.018511</td>\n",
       "      <td>-0.224705</td>\n",
       "      <td>-0.179268</td>\n",
       "      <td>0.142136</td>\n",
       "      <td>-0.180933</td>\n",
       "      <td>-0.048933</td>\n",
       "      <td>0.089244</td>\n",
       "      <td>0.185648</td>\n",
       "      <td>0.297659</td>\n",
       "      <td>0.712862</td>\n",
       "      <td>1.000000</td>\n",
       "      <td>-0.148805</td>\n",
       "      <td>-0.009018</td>\n",
       "    </tr>\n",
       "    <tr>\n",
       "      <td>Life Expectancy</td>\n",
       "      <td>0.023398</td>\n",
       "      <td>-0.111066</td>\n",
       "      <td>0.151255</td>\n",
       "      <td>0.174783</td>\n",
       "      <td>0.344628</td>\n",
       "      <td>0.133673</td>\n",
       "      <td>0.116280</td>\n",
       "      <td>-0.126468</td>\n",
       "      <td>0.518906</td>\n",
       "      <td>0.440937</td>\n",
       "      <td>-0.156839</td>\n",
       "      <td>-0.148805</td>\n",
       "      <td>1.000000</td>\n",
       "      <td>0.060801</td>\n",
       "    </tr>\n",
       "    <tr>\n",
       "      <td># of Startups</td>\n",
       "      <td>0.348117</td>\n",
       "      <td>-0.160384</td>\n",
       "      <td>0.839355</td>\n",
       "      <td>0.842792</td>\n",
       "      <td>0.314462</td>\n",
       "      <td>0.793890</td>\n",
       "      <td>0.909262</td>\n",
       "      <td>0.560939</td>\n",
       "      <td>0.423962</td>\n",
       "      <td>0.079086</td>\n",
       "      <td>-0.258577</td>\n",
       "      <td>-0.009018</td>\n",
       "      <td>0.060801</td>\n",
       "      <td>1.000000</td>\n",
       "    </tr>\n",
       "  </tbody>\n",
       "</table>\n",
       "</div>"
      ],
      "text/plain": [
       "                                        Visitors yearly  \\\n",
       "Visitors yearly                                1.000000   \n",
       "Visitors to locals ratio                       0.470115   \n",
       "Employment                                     0.543319   \n",
       "GDP                                            0.493782   \n",
       "GDP per capita                                -0.040580   \n",
       "Population                                     0.463624   \n",
       "Foreign Population                             0.375083   \n",
       "Land area (km2)                                0.393072   \n",
       "Medium Size City Center Apartment Rent         0.062125   \n",
       "AVG Net Salary                                -0.172128   \n",
       "Air Quality score                             -0.446479   \n",
       "Urban Greenery score                          -0.309404   \n",
       "Life Expectancy                                0.023398   \n",
       "# of Startups                                  0.348117   \n",
       "\n",
       "                                        Visitors to locals ratio  Employment  \\\n",
       "Visitors yearly                                         0.470115    0.543319   \n",
       "Visitors to locals ratio                                1.000000   -0.226918   \n",
       "Employment                                             -0.226918    1.000000   \n",
       "GDP                                                    -0.235971    0.978098   \n",
       "GDP per capita                                         -0.222023    0.256351   \n",
       "Population                                             -0.307691    0.956174   \n",
       "Foreign Population                                     -0.235817    0.881657   \n",
       "Land area (km2)                                        -0.032979    0.510750   \n",
       "Medium Size City Center Apartment Rent                 -0.108200    0.296182   \n",
       "AVG Net Salary                                         -0.128352   -0.049650   \n",
       "Air Quality score                                       0.024442   -0.504792   \n",
       "Urban Greenery score                                    0.018511   -0.224705   \n",
       "Life Expectancy                                        -0.111066    0.151255   \n",
       "# of Startups                                          -0.160384    0.839355   \n",
       "\n",
       "                                             GDP  GDP per capita  Population  \\\n",
       "Visitors yearly                         0.493782       -0.040580    0.463624   \n",
       "Visitors to locals ratio               -0.235971       -0.222023   -0.307691   \n",
       "Employment                              0.978098        0.256351    0.956174   \n",
       "GDP                                     1.000000        0.372156    0.939568   \n",
       "GDP per capita                          0.372156        1.000000    0.290419   \n",
       "Population                              0.939568        0.290419    1.000000   \n",
       "Foreign Population                      0.884742        0.321221    0.883135   \n",
       "Land area (km2)                         0.446053        0.015964    0.538629   \n",
       "Medium Size City Center Apartment Rent  0.375024        0.752116    0.266737   \n",
       "AVG Net Salary                          0.014991        0.658416   -0.031766   \n",
       "Air Quality score                      -0.451424        0.129231   -0.481557   \n",
       "Urban Greenery score                   -0.179268        0.142136   -0.180933   \n",
       "Life Expectancy                         0.174783        0.344628    0.133673   \n",
       "# of Startups                           0.842792        0.314462    0.793890   \n",
       "\n",
       "                                        Foreign Population  Land area (km2)  \\\n",
       "Visitors yearly                                   0.375083         0.393072   \n",
       "Visitors to locals ratio                         -0.235817        -0.032979   \n",
       "Employment                                        0.881657         0.510750   \n",
       "GDP                                               0.884742         0.446053   \n",
       "GDP per capita                                    0.321221         0.015964   \n",
       "Population                                        0.883135         0.538629   \n",
       "Foreign Population                                1.000000         0.590391   \n",
       "Land area (km2)                                   0.590391         1.000000   \n",
       "Medium Size City Center Apartment Rent            0.354059         0.150932   \n",
       "AVG Net Salary                                    0.070160        -0.007205   \n",
       "Air Quality score                                -0.408437        -0.239246   \n",
       "Urban Greenery score                             -0.048933         0.089244   \n",
       "Life Expectancy                                   0.116280        -0.126468   \n",
       "# of Startups                                     0.909262         0.560939   \n",
       "\n",
       "                                        Medium Size City Center Apartment Rent  \\\n",
       "Visitors yearly                                                       0.062125   \n",
       "Visitors to locals ratio                                             -0.108200   \n",
       "Employment                                                            0.296182   \n",
       "GDP                                                                   0.375024   \n",
       "GDP per capita                                                        0.752116   \n",
       "Population                                                            0.266737   \n",
       "Foreign Population                                                    0.354059   \n",
       "Land area (km2)                                                       0.150932   \n",
       "Medium Size City Center Apartment Rent                                1.000000   \n",
       "AVG Net Salary                                                        0.829564   \n",
       "Air Quality score                                                     0.129578   \n",
       "Urban Greenery score                                                  0.185648   \n",
       "Life Expectancy                                                       0.518906   \n",
       "# of Startups                                                         0.423962   \n",
       "\n",
       "                                        AVG Net Salary  Air Quality score  \\\n",
       "Visitors yearly                              -0.172128          -0.446479   \n",
       "Visitors to locals ratio                     -0.128352           0.024442   \n",
       "Employment                                   -0.049650          -0.504792   \n",
       "GDP                                           0.014991          -0.451424   \n",
       "GDP per capita                                0.658416           0.129231   \n",
       "Population                                   -0.031766          -0.481557   \n",
       "Foreign Population                            0.070160          -0.408437   \n",
       "Land area (km2)                              -0.007205          -0.239246   \n",
       "Medium Size City Center Apartment Rent        0.829564           0.129578   \n",
       "AVG Net Salary                                1.000000           0.353947   \n",
       "Air Quality score                             0.353947           1.000000   \n",
       "Urban Greenery score                          0.297659           0.712862   \n",
       "Life Expectancy                               0.440937          -0.156839   \n",
       "# of Startups                                 0.079086          -0.258577   \n",
       "\n",
       "                                        Urban Greenery score  Life Expectancy  \\\n",
       "Visitors yearly                                    -0.309404         0.023398   \n",
       "Visitors to locals ratio                            0.018511        -0.111066   \n",
       "Employment                                         -0.224705         0.151255   \n",
       "GDP                                                -0.179268         0.174783   \n",
       "GDP per capita                                      0.142136         0.344628   \n",
       "Population                                         -0.180933         0.133673   \n",
       "Foreign Population                                 -0.048933         0.116280   \n",
       "Land area (km2)                                     0.089244        -0.126468   \n",
       "Medium Size City Center Apartment Rent              0.185648         0.518906   \n",
       "AVG Net Salary                                      0.297659         0.440937   \n",
       "Air Quality score                                   0.712862        -0.156839   \n",
       "Urban Greenery score                                1.000000        -0.148805   \n",
       "Life Expectancy                                    -0.148805         1.000000   \n",
       "# of Startups                                      -0.009018         0.060801   \n",
       "\n",
       "                                        # of Startups  \n",
       "Visitors yearly                              0.348117  \n",
       "Visitors to locals ratio                    -0.160384  \n",
       "Employment                                   0.839355  \n",
       "GDP                                          0.842792  \n",
       "GDP per capita                               0.314462  \n",
       "Population                                   0.793890  \n",
       "Foreign Population                           0.909262  \n",
       "Land area (km2)                              0.560939  \n",
       "Medium Size City Center Apartment Rent       0.423962  \n",
       "AVG Net Salary                               0.079086  \n",
       "Air Quality score                           -0.258577  \n",
       "Urban Greenery score                        -0.009018  \n",
       "Life Expectancy                              0.060801  \n",
       "# of Startups                                1.000000  "
      ]
     },
     "execution_count": 4,
     "metadata": {},
     "output_type": "execute_result"
    }
   ],
   "source": [
    "data.corr()"
   ]
  },
  {
   "cell_type": "code",
   "execution_count": 5,
   "metadata": {},
   "outputs": [
    {
     "data": {
      "text/plain": [
       "<seaborn.axisgrid.FacetGrid at 0x122f6b1d0>"
      ]
     },
     "execution_count": 5,
     "metadata": {},
     "output_type": "execute_result"
    },
    {
     "data": {
      "image/png": "[encoded data removed]",
      "text/plain": [
       "<Figure size 576x576 with 1 Axes>"
      ]
     },
     "metadata": {
      "needs_background": "light"
     },
     "output_type": "display_data"
    }
   ],
   "source": [
    "sns.lmplot(x='Visitors to locals ratio',y='Visitors yearly',data=data,height=8)"
   ]
  },
  {
   "cell_type": "markdown",
   "metadata": {},
   "source": [
    "We can notice high variability in the data, there is a lot of cities like london and Paris their GDP is much higher than maybe 2 or 3 other cities combined. \n",
    "\n",
    "And thats why we need to reduce this noise by applython Log Transformation. Log transformation generally results in data with less variability which may help with the analysis.\n",
    "Let's try it out."
   ]
  },
  {
   "cell_type": "code",
   "execution_count": 6,
   "metadata": {},
   "outputs": [],
   "source": [
    "#First lets delete the cities column since we won't need it now\n",
    "del data['Cities']"
   ]
  },
  {
   "cell_type": "code",
   "execution_count": 7,
   "metadata": {},
   "outputs": [
    {
     "data": {
      "text/html": [
       "<div>\n",
       "<style scoped>\n",
       "    .dataframe tbody tr th:only-of-type {\n",
       "        vertical-align: middle;\n",
       "    }\n",
       "\n",
       "    .dataframe tbody tr th {\n",
       "        vertical-align: top;\n",
       "    }\n",
       "\n",
       "    .dataframe thead th {\n",
       "        text-align: right;\n",
       "    }\n",
       "</style>\n",
       "<table border=\"1\" class=\"dataframe\">\n",
       "  <thead>\n",
       "    <tr style=\"text-align: right;\">\n",
       "      <th></th>\n",
       "      <th>Visitors yearly</th>\n",
       "      <th>Visitors to locals ratio</th>\n",
       "      <th>Employment</th>\n",
       "      <th>GDP</th>\n",
       "      <th>GDP per capita</th>\n",
       "      <th>Population</th>\n",
       "      <th>Foreign Population</th>\n",
       "      <th>Land area (km2)</th>\n",
       "      <th>Medium Size City Center Apartment Rent</th>\n",
       "      <th>AVG Net Salary</th>\n",
       "      <th>Air Quality score</th>\n",
       "      <th>Urban Greenery score</th>\n",
       "      <th>Life Expectancy</th>\n",
       "      <th># of Startups</th>\n",
       "    </tr>\n",
       "  </thead>\n",
       "  <tbody>\n",
       "    <tr>\n",
       "      <td>0</td>\n",
       "      <td>30000000.0</td>\n",
       "      <td>2.34</td>\n",
       "      <td>6031104.44</td>\n",
       "      <td>6.451210e+11</td>\n",
       "      <td>54092.72</td>\n",
       "      <td>12244807.0</td>\n",
       "      <td>2436631.82</td>\n",
       "      <td>105.4</td>\n",
       "      <td>1760.0</td>\n",
       "      <td>33212.08</td>\n",
       "      <td>0.32</td>\n",
       "      <td>0.51</td>\n",
       "      <td>82.43</td>\n",
       "      <td>3933.0</td>\n",
       "    </tr>\n",
       "    <tr>\n",
       "      <td>1</td>\n",
       "      <td>19233000.0</td>\n",
       "      <td>1.35</td>\n",
       "      <td>6268882.00</td>\n",
       "      <td>6.316394e+11</td>\n",
       "      <td>56184.49</td>\n",
       "      <td>14257962.0</td>\n",
       "      <td>4705127.46</td>\n",
       "      <td>1572.0</td>\n",
       "      <td>2200.0</td>\n",
       "      <td>39762.80</td>\n",
       "      <td>0.35</td>\n",
       "      <td>0.77</td>\n",
       "      <td>81.22</td>\n",
       "      <td>9805.0</td>\n",
       "    </tr>\n",
       "    <tr>\n",
       "      <td>2</td>\n",
       "      <td>12000000.0</td>\n",
       "      <td>2.77</td>\n",
       "      <td>2411689.56</td>\n",
       "      <td>2.511397e+11</td>\n",
       "      <td>49042.31</td>\n",
       "      <td>4336121.0</td>\n",
       "      <td>390250.89</td>\n",
       "      <td>181.8</td>\n",
       "      <td>1320.0</td>\n",
       "      <td>27439.28</td>\n",
       "      <td>0.29</td>\n",
       "      <td>0.40</td>\n",
       "      <td>82.69</td>\n",
       "      <td>355.0</td>\n",
       "    </tr>\n",
       "    <tr>\n",
       "      <td>3</td>\n",
       "      <td>7000000.0</td>\n",
       "      <td>1.03</td>\n",
       "      <td>2855178.00</td>\n",
       "      <td>2.395026e+11</td>\n",
       "      <td>37049.76</td>\n",
       "      <td>6791667.0</td>\n",
       "      <td>1697916.75</td>\n",
       "      <td>604.3</td>\n",
       "      <td>1056.0</td>\n",
       "      <td>28155.60</td>\n",
       "      <td>0.31</td>\n",
       "      <td>0.58</td>\n",
       "      <td>82.83</td>\n",
       "      <td>1172.0</td>\n",
       "    </tr>\n",
       "    <tr>\n",
       "      <td>4</td>\n",
       "      <td>8800000.0</td>\n",
       "      <td>3.06</td>\n",
       "      <td>1480335.09</td>\n",
       "      <td>1.723709e+11</td>\n",
       "      <td>59869.56</td>\n",
       "      <td>5879107.0</td>\n",
       "      <td>518239.26</td>\n",
       "      <td>310.4</td>\n",
       "      <td>1584.0</td>\n",
       "      <td>42988.00</td>\n",
       "      <td>0.89</td>\n",
       "      <td>0.83</td>\n",
       "      <td>81.04</td>\n",
       "      <td>532.0</td>\n",
       "    </tr>\n",
       "  </tbody>\n",
       "</table>\n",
       "</div>"
      ],
      "text/plain": [
       "   Visitors yearly  Visitors to locals ratio  Employment           GDP  \\\n",
       "0       30000000.0                      2.34  6031104.44  6.451210e+11   \n",
       "1       19233000.0                      1.35  6268882.00  6.316394e+11   \n",
       "2       12000000.0                      2.77  2411689.56  2.511397e+11   \n",
       "3        7000000.0                      1.03  2855178.00  2.395026e+11   \n",
       "4        8800000.0                      3.06  1480335.09  1.723709e+11   \n",
       "\n",
       "   GDP per capita  Population  Foreign Population  Land area (km2)  \\\n",
       "0        54092.72  12244807.0          2436631.82            105.4   \n",
       "1        56184.49  14257962.0          4705127.46           1572.0   \n",
       "2        49042.31   4336121.0           390250.89            181.8   \n",
       "3        37049.76   6791667.0          1697916.75            604.3   \n",
       "4        59869.56   5879107.0           518239.26            310.4   \n",
       "\n",
       "   Medium Size City Center Apartment Rent  AVG Net Salary  Air Quality score  \\\n",
       "0                                  1760.0        33212.08               0.32   \n",
       "1                                  2200.0        39762.80               0.35   \n",
       "2                                  1320.0        27439.28               0.29   \n",
       "3                                  1056.0        28155.60               0.31   \n",
       "4                                  1584.0        42988.00               0.89   \n",
       "\n",
       "   Urban Greenery score  Life Expectancy  # of Startups  \n",
       "0                  0.51            82.43         3933.0  \n",
       "1                  0.77            81.22         9805.0  \n",
       "2                  0.40            82.69          355.0  \n",
       "3                  0.58            82.83         1172.0  \n",
       "4                  0.83            81.04          532.0  "
      ]
     },
     "execution_count": 7,
     "metadata": {},
     "output_type": "execute_result"
    }
   ],
   "source": [
    "data.head()"
   ]
  },
  {
   "cell_type": "markdown",
   "metadata": {},
   "source": [
    "# Log Transformation"
   ]
  },
  {
   "cell_type": "code",
   "execution_count": 8,
   "metadata": {},
   "outputs": [],
   "source": [
    "log_data= np.log10(data)"
   ]
  },
  {
   "cell_type": "code",
   "execution_count": 9,
   "metadata": {},
   "outputs": [
    {
     "data": {
      "text/html": [
       "<div>\n",
       "<style scoped>\n",
       "    .dataframe tbody tr th:only-of-type {\n",
       "        vertical-align: middle;\n",
       "    }\n",
       "\n",
       "    .dataframe tbody tr th {\n",
       "        vertical-align: top;\n",
       "    }\n",
       "\n",
       "    .dataframe thead th {\n",
       "        text-align: right;\n",
       "    }\n",
       "</style>\n",
       "<table border=\"1\" class=\"dataframe\">\n",
       "  <thead>\n",
       "    <tr style=\"text-align: right;\">\n",
       "      <th></th>\n",
       "      <th>Visitors yearly</th>\n",
       "      <th>Visitors to locals ratio</th>\n",
       "      <th>Employment</th>\n",
       "      <th>GDP</th>\n",
       "      <th>GDP per capita</th>\n",
       "      <th>Population</th>\n",
       "      <th>Foreign Population</th>\n",
       "      <th>Land area (km2)</th>\n",
       "      <th>Medium Size City Center Apartment Rent</th>\n",
       "      <th>AVG Net Salary</th>\n",
       "      <th>Air Quality score</th>\n",
       "      <th>Urban Greenery score</th>\n",
       "      <th>Life Expectancy</th>\n",
       "      <th># of Startups</th>\n",
       "    </tr>\n",
       "  </thead>\n",
       "  <tbody>\n",
       "    <tr>\n",
       "      <td>0</td>\n",
       "      <td>7.477121</td>\n",
       "      <td>0.369216</td>\n",
       "      <td>6.780397</td>\n",
       "      <td>11.809641</td>\n",
       "      <td>4.733139</td>\n",
       "      <td>7.087952</td>\n",
       "      <td>6.386790</td>\n",
       "      <td>2.022841</td>\n",
       "      <td>3.245513</td>\n",
       "      <td>4.521296</td>\n",
       "      <td>-0.494850</td>\n",
       "      <td>-0.292430</td>\n",
       "      <td>1.916085</td>\n",
       "      <td>3.594724</td>\n",
       "    </tr>\n",
       "    <tr>\n",
       "      <td>1</td>\n",
       "      <td>7.284047</td>\n",
       "      <td>0.130334</td>\n",
       "      <td>6.797190</td>\n",
       "      <td>11.800469</td>\n",
       "      <td>4.749616</td>\n",
       "      <td>7.154057</td>\n",
       "      <td>6.672571</td>\n",
       "      <td>3.196453</td>\n",
       "      <td>3.342423</td>\n",
       "      <td>4.599477</td>\n",
       "      <td>-0.455932</td>\n",
       "      <td>-0.113509</td>\n",
       "      <td>1.909663</td>\n",
       "      <td>3.991448</td>\n",
       "    </tr>\n",
       "    <tr>\n",
       "      <td>2</td>\n",
       "      <td>7.079181</td>\n",
       "      <td>0.442480</td>\n",
       "      <td>6.382321</td>\n",
       "      <td>11.399915</td>\n",
       "      <td>4.690571</td>\n",
       "      <td>6.637101</td>\n",
       "      <td>5.591344</td>\n",
       "      <td>2.259594</td>\n",
       "      <td>3.120574</td>\n",
       "      <td>4.438373</td>\n",
       "      <td>-0.537602</td>\n",
       "      <td>-0.397940</td>\n",
       "      <td>1.917453</td>\n",
       "      <td>2.550228</td>\n",
       "    </tr>\n",
       "    <tr>\n",
       "      <td>3</td>\n",
       "      <td>6.845098</td>\n",
       "      <td>0.012837</td>\n",
       "      <td>6.455633</td>\n",
       "      <td>11.379310</td>\n",
       "      <td>4.568785</td>\n",
       "      <td>6.831976</td>\n",
       "      <td>6.229916</td>\n",
       "      <td>2.781253</td>\n",
       "      <td>3.023664</td>\n",
       "      <td>4.449565</td>\n",
       "      <td>-0.508638</td>\n",
       "      <td>-0.236572</td>\n",
       "      <td>1.918188</td>\n",
       "      <td>3.068928</td>\n",
       "    </tr>\n",
       "    <tr>\n",
       "      <td>4</td>\n",
       "      <td>6.944483</td>\n",
       "      <td>0.485721</td>\n",
       "      <td>6.170360</td>\n",
       "      <td>11.236464</td>\n",
       "      <td>4.777206</td>\n",
       "      <td>6.769311</td>\n",
       "      <td>5.714530</td>\n",
       "      <td>2.491922</td>\n",
       "      <td>3.199755</td>\n",
       "      <td>4.633347</td>\n",
       "      <td>-0.050610</td>\n",
       "      <td>-0.080922</td>\n",
       "      <td>1.908699</td>\n",
       "      <td>2.725912</td>\n",
       "    </tr>\n",
       "  </tbody>\n",
       "</table>\n",
       "</div>"
      ],
      "text/plain": [
       "   Visitors yearly  Visitors to locals ratio  Employment        GDP  \\\n",
       "0         7.477121                  0.369216    6.780397  11.809641   \n",
       "1         7.284047                  0.130334    6.797190  11.800469   \n",
       "2         7.079181                  0.442480    6.382321  11.399915   \n",
       "3         6.845098                  0.012837    6.455633  11.379310   \n",
       "4         6.944483                  0.485721    6.170360  11.236464   \n",
       "\n",
       "   GDP per capita  Population  Foreign Population  Land area (km2)  \\\n",
       "0        4.733139    7.087952            6.386790         2.022841   \n",
       "1        4.749616    7.154057            6.672571         3.196453   \n",
       "2        4.690571    6.637101            5.591344         2.259594   \n",
       "3        4.568785    6.831976            6.229916         2.781253   \n",
       "4        4.777206    6.769311            5.714530         2.491922   \n",
       "\n",
       "   Medium Size City Center Apartment Rent  AVG Net Salary  Air Quality score  \\\n",
       "0                                3.245513        4.521296          -0.494850   \n",
       "1                                3.342423        4.599477          -0.455932   \n",
       "2                                3.120574        4.438373          -0.537602   \n",
       "3                                3.023664        4.449565          -0.508638   \n",
       "4                                3.199755        4.633347          -0.050610   \n",
       "\n",
       "   Urban Greenery score  Life Expectancy  # of Startups  \n",
       "0             -0.292430         1.916085       3.594724  \n",
       "1             -0.113509         1.909663       3.991448  \n",
       "2             -0.397940         1.917453       2.550228  \n",
       "3             -0.236572         1.918188       3.068928  \n",
       "4             -0.080922         1.908699       2.725912  "
      ]
     },
     "execution_count": 9,
     "metadata": {},
     "output_type": "execute_result"
    }
   ],
   "source": [
    "log_data.head()"
   ]
  },
  {
   "cell_type": "code",
   "execution_count": 10,
   "metadata": {},
   "outputs": [
    {
     "data": {
      "text/html": [
       "<div>\n",
       "<style scoped>\n",
       "    .dataframe tbody tr th:only-of-type {\n",
       "        vertical-align: middle;\n",
       "    }\n",
       "\n",
       "    .dataframe tbody tr th {\n",
       "        vertical-align: top;\n",
       "    }\n",
       "\n",
       "    .dataframe thead th {\n",
       "        text-align: right;\n",
       "    }\n",
       "</style>\n",
       "<table border=\"1\" class=\"dataframe\">\n",
       "  <thead>\n",
       "    <tr style=\"text-align: right;\">\n",
       "      <th></th>\n",
       "      <th>Visitors yearly</th>\n",
       "      <th>Visitors to locals ratio</th>\n",
       "      <th>Employment</th>\n",
       "      <th>GDP</th>\n",
       "      <th>GDP per capita</th>\n",
       "      <th>Population</th>\n",
       "      <th>Foreign Population</th>\n",
       "      <th>Land area (km2)</th>\n",
       "      <th>Medium Size City Center Apartment Rent</th>\n",
       "      <th>AVG Net Salary</th>\n",
       "      <th>Air Quality score</th>\n",
       "      <th>Urban Greenery score</th>\n",
       "      <th>Life Expectancy</th>\n",
       "      <th># of Startups</th>\n",
       "    </tr>\n",
       "  </thead>\n",
       "  <tbody>\n",
       "    <tr>\n",
       "      <td>count</td>\n",
       "      <td>42.000000</td>\n",
       "      <td>42.000000</td>\n",
       "      <td>42.000000</td>\n",
       "      <td>42.000000</td>\n",
       "      <td>42.000000</td>\n",
       "      <td>42.000000</td>\n",
       "      <td>42.000000</td>\n",
       "      <td>42.000000</td>\n",
       "      <td>42.000000</td>\n",
       "      <td>42.000000</td>\n",
       "      <td>42.000000</td>\n",
       "      <td>42.000000</td>\n",
       "      <td>42.000000</td>\n",
       "      <td>42.000000</td>\n",
       "    </tr>\n",
       "    <tr>\n",
       "      <td>mean</td>\n",
       "      <td>6.808691</td>\n",
       "      <td>0.495927</td>\n",
       "      <td>5.957949</td>\n",
       "      <td>10.901598</td>\n",
       "      <td>4.609992</td>\n",
       "      <td>6.350418</td>\n",
       "      <td>5.584426</td>\n",
       "      <td>2.265146</td>\n",
       "      <td>3.054688</td>\n",
       "      <td>4.506977</td>\n",
       "      <td>-0.234376</td>\n",
       "      <td>-0.173822</td>\n",
       "      <td>1.909298</td>\n",
       "      <td>2.454117</td>\n",
       "    </tr>\n",
       "    <tr>\n",
       "      <td>std</td>\n",
       "      <td>0.404735</td>\n",
       "      <td>0.337670</td>\n",
       "      <td>0.335085</td>\n",
       "      <td>0.362730</td>\n",
       "      <td>0.116741</td>\n",
       "      <td>0.350420</td>\n",
       "      <td>0.439447</td>\n",
       "      <td>0.443849</td>\n",
       "      <td>0.164194</td>\n",
       "      <td>0.163099</td>\n",
       "      <td>0.168988</td>\n",
       "      <td>0.168803</td>\n",
       "      <td>0.011850</td>\n",
       "      <td>0.528107</td>\n",
       "    </tr>\n",
       "    <tr>\n",
       "      <td>min</td>\n",
       "      <td>5.923762</td>\n",
       "      <td>-0.259637</td>\n",
       "      <td>5.380280</td>\n",
       "      <td>10.272168</td>\n",
       "      <td>4.413819</td>\n",
       "      <td>5.765338</td>\n",
       "      <td>4.477121</td>\n",
       "      <td>1.202216</td>\n",
       "      <td>2.707911</td>\n",
       "      <td>4.181599</td>\n",
       "      <td>-0.657577</td>\n",
       "      <td>-1.000000</td>\n",
       "      <td>1.867055</td>\n",
       "      <td>1.477121</td>\n",
       "    </tr>\n",
       "    <tr>\n",
       "      <td>25%</td>\n",
       "      <td>6.585353</td>\n",
       "      <td>0.340939</td>\n",
       "      <td>5.680435</td>\n",
       "      <td>10.582259</td>\n",
       "      <td>4.508423</td>\n",
       "      <td>6.033018</td>\n",
       "      <td>5.341876</td>\n",
       "      <td>1.997417</td>\n",
       "      <td>2.985875</td>\n",
       "      <td>4.406017</td>\n",
       "      <td>-0.296772</td>\n",
       "      <td>-0.187087</td>\n",
       "      <td>1.908726</td>\n",
       "      <td>2.179651</td>\n",
       "    </tr>\n",
       "    <tr>\n",
       "      <td>50%</td>\n",
       "      <td>6.778151</td>\n",
       "      <td>0.519826</td>\n",
       "      <td>5.956596</td>\n",
       "      <td>10.898442</td>\n",
       "      <td>4.636380</td>\n",
       "      <td>6.353144</td>\n",
       "      <td>5.571304</td>\n",
       "      <td>2.266876</td>\n",
       "      <td>3.023664</td>\n",
       "      <td>4.521980</td>\n",
       "      <td>-0.183771</td>\n",
       "      <td>-0.133803</td>\n",
       "      <td>1.910197</td>\n",
       "      <td>2.407250</td>\n",
       "    </tr>\n",
       "    <tr>\n",
       "      <td>75%</td>\n",
       "      <td>7.069734</td>\n",
       "      <td>0.718282</td>\n",
       "      <td>6.162096</td>\n",
       "      <td>11.140541</td>\n",
       "      <td>4.708563</td>\n",
       "      <td>6.611080</td>\n",
       "      <td>5.884799</td>\n",
       "      <td>2.614008</td>\n",
       "      <td>3.141595</td>\n",
       "      <td>4.580388</td>\n",
       "      <td>-0.099659</td>\n",
       "      <td>-0.069357</td>\n",
       "      <td>1.916085</td>\n",
       "      <td>2.744937</td>\n",
       "    </tr>\n",
       "    <tr>\n",
       "      <td>max</td>\n",
       "      <td>7.477121</td>\n",
       "      <td>1.296226</td>\n",
       "      <td>6.797190</td>\n",
       "      <td>11.809641</td>\n",
       "      <td>4.792049</td>\n",
       "      <td>7.154057</td>\n",
       "      <td>6.672571</td>\n",
       "      <td>3.196453</td>\n",
       "      <td>3.391641</td>\n",
       "      <td>4.898725</td>\n",
       "      <td>-0.004365</td>\n",
       "      <td>0.000000</td>\n",
       "      <td>1.920958</td>\n",
       "      <td>3.991448</td>\n",
       "    </tr>\n",
       "  </tbody>\n",
       "</table>\n",
       "</div>"
      ],
      "text/plain": [
       "       Visitors yearly  Visitors to locals ratio  Employment        GDP  \\\n",
       "count        42.000000                 42.000000   42.000000  42.000000   \n",
       "mean          6.808691                  0.495927    5.957949  10.901598   \n",
       "std           0.404735                  0.337670    0.335085   0.362730   \n",
       "min           5.923762                 -0.259637    5.380280  10.272168   \n",
       "25%           6.585353                  0.340939    5.680435  10.582259   \n",
       "50%           6.778151                  0.519826    5.956596  10.898442   \n",
       "75%           7.069734                  0.718282    6.162096  11.140541   \n",
       "max           7.477121                  1.296226    6.797190  11.809641   \n",
       "\n",
       "       GDP per capita  Population  Foreign Population  Land area (km2)  \\\n",
       "count       42.000000   42.000000           42.000000        42.000000   \n",
       "mean         4.609992    6.350418            5.584426         2.265146   \n",
       "std          0.116741    0.350420            0.439447         0.443849   \n",
       "min          4.413819    5.765338            4.477121         1.202216   \n",
       "25%          4.508423    6.033018            5.341876         1.997417   \n",
       "50%          4.636380    6.353144            5.571304         2.266876   \n",
       "75%          4.708563    6.611080            5.884799         2.614008   \n",
       "max          4.792049    7.154057            6.672571         3.196453   \n",
       "\n",
       "       Medium Size City Center Apartment Rent  AVG Net Salary  \\\n",
       "count                               42.000000       42.000000   \n",
       "mean                                 3.054688        4.506977   \n",
       "std                                  0.164194        0.163099   \n",
       "min                                  2.707911        4.181599   \n",
       "25%                                  2.985875        4.406017   \n",
       "50%                                  3.023664        4.521980   \n",
       "75%                                  3.141595        4.580388   \n",
       "max                                  3.391641        4.898725   \n",
       "\n",
       "       Air Quality score  Urban Greenery score  Life Expectancy  # of Startups  \n",
       "count          42.000000             42.000000        42.000000      42.000000  \n",
       "mean           -0.234376             -0.173822         1.909298       2.454117  \n",
       "std             0.168988              0.168803         0.011850       0.528107  \n",
       "min            -0.657577             -1.000000         1.867055       1.477121  \n",
       "25%            -0.296772             -0.187087         1.908726       2.179651  \n",
       "50%            -0.183771             -0.133803         1.910197       2.407250  \n",
       "75%            -0.099659             -0.069357         1.916085       2.744937  \n",
       "max            -0.004365              0.000000         1.920958       3.991448  "
      ]
     },
     "execution_count": 10,
     "metadata": {},
     "output_type": "execute_result"
    }
   ],
   "source": [
    "log_data.describe()"
   ]
  },
  {
   "cell_type": "markdown",
   "metadata": {},
   "source": [
    "In this table we can find information about our data and variables after the log transformation, the count column represents the sample number, the mean column represents the average values for each column, the std column represents the standard deviation which is the how much the numbers of a variable differ from the mean value for that variable, while the min and max column represents the minimum and maximum values in each variable, lastly the 25%, 50%, 75%, It describes the distribution of the data. 50% should be a value that describes the median of the data. 25% and 75% is the border of the upper/lower quarter of the data. We can get an idea of how skew our data is, for instance, note that for the ‘Visitors yearly’ the mean is higher than the median, which means our data is right skewed in this case."
   ]
  },
  {
   "cell_type": "code",
   "execution_count": 11,
   "metadata": {},
   "outputs": [
    {
     "data": {
      "text/plain": [
       "<seaborn.axisgrid.FacetGrid at 0x123088d10>"
      ]
     },
     "execution_count": 11,
     "metadata": {},
     "output_type": "execute_result"
    },
    {
     "data": {
      "image/png": "[encoded data removed]",
      "text/plain": [
       "<Figure size 576x576 with 1 Axes>"
      ]
     },
     "metadata": {
      "needs_background": "light"
     },
     "output_type": "display_data"
    }
   ],
   "source": [
    "#lets try and print again to see the results \n",
    "sns.lmplot(x='Visitors to locals ratio',y='Visitors yearly',data=log_data,height=8)"
   ]
  },
  {
   "cell_type": "markdown",
   "metadata": {},
   "source": [
    "Excellent, now the data has a lower variability. "
   ]
  },
  {
   "cell_type": "code",
   "execution_count": 12,
   "metadata": {},
   "outputs": [
    {
     "data": {
      "text/html": [
       "<div>\n",
       "<style scoped>\n",
       "    .dataframe tbody tr th:only-of-type {\n",
       "        vertical-align: middle;\n",
       "    }\n",
       "\n",
       "    .dataframe tbody tr th {\n",
       "        vertical-align: top;\n",
       "    }\n",
       "\n",
       "    .dataframe thead th {\n",
       "        text-align: right;\n",
       "    }\n",
       "</style>\n",
       "<table border=\"1\" class=\"dataframe\">\n",
       "  <thead>\n",
       "    <tr style=\"text-align: right;\">\n",
       "      <th></th>\n",
       "      <th>Visitors yearly</th>\n",
       "      <th>Visitors to locals ratio</th>\n",
       "      <th>Employment</th>\n",
       "      <th>GDP</th>\n",
       "      <th>GDP per capita</th>\n",
       "      <th>Population</th>\n",
       "      <th>Foreign Population</th>\n",
       "      <th>Land area (km2)</th>\n",
       "      <th>Medium Size City Center Apartment Rent</th>\n",
       "      <th>AVG Net Salary</th>\n",
       "      <th>Air Quality score</th>\n",
       "      <th>Urban Greenery score</th>\n",
       "      <th>Life Expectancy</th>\n",
       "      <th># of Startups</th>\n",
       "    </tr>\n",
       "  </thead>\n",
       "  <tbody>\n",
       "    <tr>\n",
       "      <td>Visitors yearly</td>\n",
       "      <td>1.000000</td>\n",
       "      <td>0.600480</td>\n",
       "      <td>0.598878</td>\n",
       "      <td>0.563646</td>\n",
       "      <td>0.066380</td>\n",
       "      <td>0.443418</td>\n",
       "      <td>0.459718</td>\n",
       "      <td>0.322822</td>\n",
       "      <td>0.134310</td>\n",
       "      <td>-0.081501</td>\n",
       "      <td>-0.338681</td>\n",
       "      <td>-0.094943</td>\n",
       "      <td>0.023482</td>\n",
       "      <td>0.481539</td>\n",
       "    </tr>\n",
       "    <tr>\n",
       "      <td>Visitors to locals ratio</td>\n",
       "      <td>0.600480</td>\n",
       "      <td>1.000000</td>\n",
       "      <td>-0.261808</td>\n",
       "      <td>-0.257476</td>\n",
       "      <td>-0.053529</td>\n",
       "      <td>-0.400532</td>\n",
       "      <td>-0.195207</td>\n",
       "      <td>-0.002996</td>\n",
       "      <td>-0.009319</td>\n",
       "      <td>-0.026060</td>\n",
       "      <td>0.180561</td>\n",
       "      <td>0.191188</td>\n",
       "      <td>-0.168845</td>\n",
       "      <td>-0.027247</td>\n",
       "    </tr>\n",
       "    <tr>\n",
       "      <td>Employment</td>\n",
       "      <td>0.598878</td>\n",
       "      <td>-0.261808</td>\n",
       "      <td>1.000000</td>\n",
       "      <td>0.947226</td>\n",
       "      <td>0.213078</td>\n",
       "      <td>0.926125</td>\n",
       "      <td>0.742737</td>\n",
       "      <td>0.408667</td>\n",
       "      <td>0.214961</td>\n",
       "      <td>-0.024320</td>\n",
       "      <td>-0.538930</td>\n",
       "      <td>-0.247101</td>\n",
       "      <td>0.184673</td>\n",
       "      <td>0.637456</td>\n",
       "    </tr>\n",
       "    <tr>\n",
       "      <td>GDP</td>\n",
       "      <td>0.563646</td>\n",
       "      <td>-0.257476</td>\n",
       "      <td>0.947226</td>\n",
       "      <td>1.000000</td>\n",
       "      <td>0.441337</td>\n",
       "      <td>0.911280</td>\n",
       "      <td>0.811258</td>\n",
       "      <td>0.383939</td>\n",
       "      <td>0.410955</td>\n",
       "      <td>0.165032</td>\n",
       "      <td>-0.500644</td>\n",
       "      <td>-0.210503</td>\n",
       "      <td>0.293859</td>\n",
       "      <td>0.665201</td>\n",
       "    </tr>\n",
       "    <tr>\n",
       "      <td>GDP per capita</td>\n",
       "      <td>0.066380</td>\n",
       "      <td>-0.053529</td>\n",
       "      <td>0.213078</td>\n",
       "      <td>0.441337</td>\n",
       "      <td>1.000000</td>\n",
       "      <td>0.253709</td>\n",
       "      <td>0.433229</td>\n",
       "      <td>0.059556</td>\n",
       "      <td>0.768243</td>\n",
       "      <td>0.722769</td>\n",
       "      <td>0.088119</td>\n",
       "      <td>0.148765</td>\n",
       "      <td>0.361897</td>\n",
       "      <td>0.465242</td>\n",
       "    </tr>\n",
       "    <tr>\n",
       "      <td>Population</td>\n",
       "      <td>0.443418</td>\n",
       "      <td>-0.400532</td>\n",
       "      <td>0.926125</td>\n",
       "      <td>0.911280</td>\n",
       "      <td>0.253709</td>\n",
       "      <td>1.000000</td>\n",
       "      <td>0.764027</td>\n",
       "      <td>0.407817</td>\n",
       "      <td>0.204064</td>\n",
       "      <td>0.013246</td>\n",
       "      <td>-0.498292</td>\n",
       "      <td>-0.231809</td>\n",
       "      <td>0.166557</td>\n",
       "      <td>0.542648</td>\n",
       "    </tr>\n",
       "    <tr>\n",
       "      <td>Foreign Population</td>\n",
       "      <td>0.459718</td>\n",
       "      <td>-0.195207</td>\n",
       "      <td>0.742737</td>\n",
       "      <td>0.811258</td>\n",
       "      <td>0.433229</td>\n",
       "      <td>0.764027</td>\n",
       "      <td>1.000000</td>\n",
       "      <td>0.522313</td>\n",
       "      <td>0.356944</td>\n",
       "      <td>0.253472</td>\n",
       "      <td>-0.426858</td>\n",
       "      <td>-0.097624</td>\n",
       "      <td>0.158924</td>\n",
       "      <td>0.600866</td>\n",
       "    </tr>\n",
       "    <tr>\n",
       "      <td>Land area (km2)</td>\n",
       "      <td>0.322822</td>\n",
       "      <td>-0.002996</td>\n",
       "      <td>0.408667</td>\n",
       "      <td>0.383939</td>\n",
       "      <td>0.059556</td>\n",
       "      <td>0.407817</td>\n",
       "      <td>0.522313</td>\n",
       "      <td>1.000000</td>\n",
       "      <td>0.006890</td>\n",
       "      <td>-0.006225</td>\n",
       "      <td>-0.099547</td>\n",
       "      <td>0.160352</td>\n",
       "      <td>-0.310298</td>\n",
       "      <td>0.409523</td>\n",
       "    </tr>\n",
       "    <tr>\n",
       "      <td>Medium Size City Center Apartment Rent</td>\n",
       "      <td>0.134310</td>\n",
       "      <td>-0.009319</td>\n",
       "      <td>0.214961</td>\n",
       "      <td>0.410955</td>\n",
       "      <td>0.768243</td>\n",
       "      <td>0.204064</td>\n",
       "      <td>0.356944</td>\n",
       "      <td>0.006890</td>\n",
       "      <td>1.000000</td>\n",
       "      <td>0.843225</td>\n",
       "      <td>0.095681</td>\n",
       "      <td>0.216966</td>\n",
       "      <td>0.636903</td>\n",
       "      <td>0.487180</td>\n",
       "    </tr>\n",
       "    <tr>\n",
       "      <td>AVG Net Salary</td>\n",
       "      <td>-0.081501</td>\n",
       "      <td>-0.026060</td>\n",
       "      <td>-0.024320</td>\n",
       "      <td>0.165032</td>\n",
       "      <td>0.722769</td>\n",
       "      <td>0.013246</td>\n",
       "      <td>0.253472</td>\n",
       "      <td>-0.006225</td>\n",
       "      <td>0.843225</td>\n",
       "      <td>1.000000</td>\n",
       "      <td>0.314924</td>\n",
       "      <td>0.323682</td>\n",
       "      <td>0.524459</td>\n",
       "      <td>0.284502</td>\n",
       "    </tr>\n",
       "    <tr>\n",
       "      <td>Air Quality score</td>\n",
       "      <td>-0.338681</td>\n",
       "      <td>0.180561</td>\n",
       "      <td>-0.538930</td>\n",
       "      <td>-0.500644</td>\n",
       "      <td>0.088119</td>\n",
       "      <td>-0.498292</td>\n",
       "      <td>-0.426858</td>\n",
       "      <td>-0.099547</td>\n",
       "      <td>0.095681</td>\n",
       "      <td>0.314924</td>\n",
       "      <td>1.000000</td>\n",
       "      <td>0.714255</td>\n",
       "      <td>-0.180928</td>\n",
       "      <td>-0.058681</td>\n",
       "    </tr>\n",
       "    <tr>\n",
       "      <td>Urban Greenery score</td>\n",
       "      <td>-0.094943</td>\n",
       "      <td>0.191188</td>\n",
       "      <td>-0.247101</td>\n",
       "      <td>-0.210503</td>\n",
       "      <td>0.148765</td>\n",
       "      <td>-0.231809</td>\n",
       "      <td>-0.097624</td>\n",
       "      <td>0.160352</td>\n",
       "      <td>0.216966</td>\n",
       "      <td>0.323682</td>\n",
       "      <td>0.714255</td>\n",
       "      <td>1.000000</td>\n",
       "      <td>-0.151028</td>\n",
       "      <td>0.138433</td>\n",
       "    </tr>\n",
       "    <tr>\n",
       "      <td>Life Expectancy</td>\n",
       "      <td>0.023482</td>\n",
       "      <td>-0.168845</td>\n",
       "      <td>0.184673</td>\n",
       "      <td>0.293859</td>\n",
       "      <td>0.361897</td>\n",
       "      <td>0.166557</td>\n",
       "      <td>0.158924</td>\n",
       "      <td>-0.310298</td>\n",
       "      <td>0.636903</td>\n",
       "      <td>0.524459</td>\n",
       "      <td>-0.180928</td>\n",
       "      <td>-0.151028</td>\n",
       "      <td>1.000000</td>\n",
       "      <td>0.033068</td>\n",
       "    </tr>\n",
       "    <tr>\n",
       "      <td># of Startups</td>\n",
       "      <td>0.481539</td>\n",
       "      <td>-0.027247</td>\n",
       "      <td>0.637456</td>\n",
       "      <td>0.665201</td>\n",
       "      <td>0.465242</td>\n",
       "      <td>0.542648</td>\n",
       "      <td>0.600866</td>\n",
       "      <td>0.409523</td>\n",
       "      <td>0.487180</td>\n",
       "      <td>0.284502</td>\n",
       "      <td>-0.058681</td>\n",
       "      <td>0.138433</td>\n",
       "      <td>0.033068</td>\n",
       "      <td>1.000000</td>\n",
       "    </tr>\n",
       "  </tbody>\n",
       "</table>\n",
       "</div>"
      ],
      "text/plain": [
       "                                        Visitors yearly  \\\n",
       "Visitors yearly                                1.000000   \n",
       "Visitors to locals ratio                       0.600480   \n",
       "Employment                                     0.598878   \n",
       "GDP                                            0.563646   \n",
       "GDP per capita                                 0.066380   \n",
       "Population                                     0.443418   \n",
       "Foreign Population                             0.459718   \n",
       "Land area (km2)                                0.322822   \n",
       "Medium Size City Center Apartment Rent         0.134310   \n",
       "AVG Net Salary                                -0.081501   \n",
       "Air Quality score                             -0.338681   \n",
       "Urban Greenery score                          -0.094943   \n",
       "Life Expectancy                                0.023482   \n",
       "# of Startups                                  0.481539   \n",
       "\n",
       "                                        Visitors to locals ratio  Employment  \\\n",
       "Visitors yearly                                         0.600480    0.598878   \n",
       "Visitors to locals ratio                                1.000000   -0.261808   \n",
       "Employment                                             -0.261808    1.000000   \n",
       "GDP                                                    -0.257476    0.947226   \n",
       "GDP per capita                                         -0.053529    0.213078   \n",
       "Population                                             -0.400532    0.926125   \n",
       "Foreign Population                                     -0.195207    0.742737   \n",
       "Land area (km2)                                        -0.002996    0.408667   \n",
       "Medium Size City Center Apartment Rent                 -0.009319    0.214961   \n",
       "AVG Net Salary                                         -0.026060   -0.024320   \n",
       "Air Quality score                                       0.180561   -0.538930   \n",
       "Urban Greenery score                                    0.191188   -0.247101   \n",
       "Life Expectancy                                        -0.168845    0.184673   \n",
       "# of Startups                                          -0.027247    0.637456   \n",
       "\n",
       "                                             GDP  GDP per capita  Population  \\\n",
       "Visitors yearly                         0.563646        0.066380    0.443418   \n",
       "Visitors to locals ratio               -0.257476       -0.053529   -0.400532   \n",
       "Employment                              0.947226        0.213078    0.926125   \n",
       "GDP                                     1.000000        0.441337    0.911280   \n",
       "GDP per capita                          0.441337        1.000000    0.253709   \n",
       "Population                              0.911280        0.253709    1.000000   \n",
       "Foreign Population                      0.811258        0.433229    0.764027   \n",
       "Land area (km2)                         0.383939        0.059556    0.407817   \n",
       "Medium Size City Center Apartment Rent  0.410955        0.768243    0.204064   \n",
       "AVG Net Salary                          0.165032        0.722769    0.013246   \n",
       "Air Quality score                      -0.500644        0.088119   -0.498292   \n",
       "Urban Greenery score                   -0.210503        0.148765   -0.231809   \n",
       "Life Expectancy                         0.293859        0.361897    0.166557   \n",
       "# of Startups                           0.665201        0.465242    0.542648   \n",
       "\n",
       "                                        Foreign Population  Land area (km2)  \\\n",
       "Visitors yearly                                   0.459718         0.322822   \n",
       "Visitors to locals ratio                         -0.195207        -0.002996   \n",
       "Employment                                        0.742737         0.408667   \n",
       "GDP                                               0.811258         0.383939   \n",
       "GDP per capita                                    0.433229         0.059556   \n",
       "Population                                        0.764027         0.407817   \n",
       "Foreign Population                                1.000000         0.522313   \n",
       "Land area (km2)                                   0.522313         1.000000   \n",
       "Medium Size City Center Apartment Rent            0.356944         0.006890   \n",
       "AVG Net Salary                                    0.253472        -0.006225   \n",
       "Air Quality score                                -0.426858        -0.099547   \n",
       "Urban Greenery score                             -0.097624         0.160352   \n",
       "Life Expectancy                                   0.158924        -0.310298   \n",
       "# of Startups                                     0.600866         0.409523   \n",
       "\n",
       "                                        Medium Size City Center Apartment Rent  \\\n",
       "Visitors yearly                                                       0.134310   \n",
       "Visitors to locals ratio                                             -0.009319   \n",
       "Employment                                                            0.214961   \n",
       "GDP                                                                   0.410955   \n",
       "GDP per capita                                                        0.768243   \n",
       "Population                                                            0.204064   \n",
       "Foreign Population                                                    0.356944   \n",
       "Land area (km2)                                                       0.006890   \n",
       "Medium Size City Center Apartment Rent                                1.000000   \n",
       "AVG Net Salary                                                        0.843225   \n",
       "Air Quality score                                                     0.095681   \n",
       "Urban Greenery score                                                  0.216966   \n",
       "Life Expectancy                                                       0.636903   \n",
       "# of Startups                                                         0.487180   \n",
       "\n",
       "                                        AVG Net Salary  Air Quality score  \\\n",
       "Visitors yearly                              -0.081501          -0.338681   \n",
       "Visitors to locals ratio                     -0.026060           0.180561   \n",
       "Employment                                   -0.024320          -0.538930   \n",
       "GDP                                           0.165032          -0.500644   \n",
       "GDP per capita                                0.722769           0.088119   \n",
       "Population                                    0.013246          -0.498292   \n",
       "Foreign Population                            0.253472          -0.426858   \n",
       "Land area (km2)                              -0.006225          -0.099547   \n",
       "Medium Size City Center Apartment Rent        0.843225           0.095681   \n",
       "AVG Net Salary                                1.000000           0.314924   \n",
       "Air Quality score                             0.314924           1.000000   \n",
       "Urban Greenery score                          0.323682           0.714255   \n",
       "Life Expectancy                               0.524459          -0.180928   \n",
       "# of Startups                                 0.284502          -0.058681   \n",
       "\n",
       "                                        Urban Greenery score  Life Expectancy  \\\n",
       "Visitors yearly                                    -0.094943         0.023482   \n",
       "Visitors to locals ratio                            0.191188        -0.168845   \n",
       "Employment                                         -0.247101         0.184673   \n",
       "GDP                                                -0.210503         0.293859   \n",
       "GDP per capita                                      0.148765         0.361897   \n",
       "Population                                         -0.231809         0.166557   \n",
       "Foreign Population                                 -0.097624         0.158924   \n",
       "Land area (km2)                                     0.160352        -0.310298   \n",
       "Medium Size City Center Apartment Rent              0.216966         0.636903   \n",
       "AVG Net Salary                                      0.323682         0.524459   \n",
       "Air Quality score                                   0.714255        -0.180928   \n",
       "Urban Greenery score                                1.000000        -0.151028   \n",
       "Life Expectancy                                    -0.151028         1.000000   \n",
       "# of Startups                                       0.138433         0.033068   \n",
       "\n",
       "                                        # of Startups  \n",
       "Visitors yearly                              0.481539  \n",
       "Visitors to locals ratio                    -0.027247  \n",
       "Employment                                   0.637456  \n",
       "GDP                                          0.665201  \n",
       "GDP per capita                               0.465242  \n",
       "Population                                   0.542648  \n",
       "Foreign Population                           0.600866  \n",
       "Land area (km2)                              0.409523  \n",
       "Medium Size City Center Apartment Rent       0.487180  \n",
       "AVG Net Salary                               0.284502  \n",
       "Air Quality score                           -0.058681  \n",
       "Urban Greenery score                         0.138433  \n",
       "Life Expectancy                              0.033068  \n",
       "# of Startups                                1.000000  "
      ]
     },
     "execution_count": 12,
     "metadata": {},
     "output_type": "execute_result"
    }
   ],
   "source": [
    "#lets test our correlation again \n",
    "log_data.corr()"
   ]
  },
  {
   "cell_type": "markdown",
   "metadata": {},
   "source": [
    "We will need to elemenate any variable that has low correlation with our independent variable (Visitors yearly) < 0.5"
   ]
  },
  {
   "cell_type": "code",
   "execution_count": 13,
   "metadata": {},
   "outputs": [
    {
     "data": {
      "text/plain": [
       "Index(['Visitors yearly', 'Visitors to locals ratio', 'Employment', 'GDP',\n",
       "       'GDP per capita', 'Population', 'Foreign Population', 'Land area (km2)',\n",
       "       'Medium Size City Center Apartment Rent', 'AVG Net Salary',\n",
       "       'Air Quality score', 'Urban Greenery score', 'Life Expectancy',\n",
       "       '# of Startups'],\n",
       "      dtype='object')"
      ]
     },
     "execution_count": 13,
     "metadata": {},
     "output_type": "execute_result"
    }
   ],
   "source": [
    "log_data.columns"
   ]
  },
  {
   "cell_type": "code",
   "execution_count": 14,
   "metadata": {},
   "outputs": [],
   "source": [
    "#creating a dataframe with the important variables only\n",
    "df = log_data[['Visitors yearly', 'Visitors to locals ratio', \n",
    "              'Employment', 'GDP']]"
   ]
  },
  {
   "cell_type": "code",
   "execution_count": 15,
   "metadata": {},
   "outputs": [
    {
     "data": {
      "text/html": [
       "<div>\n",
       "<style scoped>\n",
       "    .dataframe tbody tr th:only-of-type {\n",
       "        vertical-align: middle;\n",
       "    }\n",
       "\n",
       "    .dataframe tbody tr th {\n",
       "        vertical-align: top;\n",
       "    }\n",
       "\n",
       "    .dataframe thead th {\n",
       "        text-align: right;\n",
       "    }\n",
       "</style>\n",
       "<table border=\"1\" class=\"dataframe\">\n",
       "  <thead>\n",
       "    <tr style=\"text-align: right;\">\n",
       "      <th></th>\n",
       "      <th>Visitors yearly</th>\n",
       "      <th>Visitors to locals ratio</th>\n",
       "      <th>Employment</th>\n",
       "      <th>GDP</th>\n",
       "    </tr>\n",
       "  </thead>\n",
       "  <tbody>\n",
       "    <tr>\n",
       "      <td>0</td>\n",
       "      <td>7.477121</td>\n",
       "      <td>0.369216</td>\n",
       "      <td>6.780397</td>\n",
       "      <td>11.809641</td>\n",
       "    </tr>\n",
       "    <tr>\n",
       "      <td>1</td>\n",
       "      <td>7.284047</td>\n",
       "      <td>0.130334</td>\n",
       "      <td>6.797190</td>\n",
       "      <td>11.800469</td>\n",
       "    </tr>\n",
       "    <tr>\n",
       "      <td>2</td>\n",
       "      <td>7.079181</td>\n",
       "      <td>0.442480</td>\n",
       "      <td>6.382321</td>\n",
       "      <td>11.399915</td>\n",
       "    </tr>\n",
       "    <tr>\n",
       "      <td>3</td>\n",
       "      <td>6.845098</td>\n",
       "      <td>0.012837</td>\n",
       "      <td>6.455633</td>\n",
       "      <td>11.379310</td>\n",
       "    </tr>\n",
       "    <tr>\n",
       "      <td>4</td>\n",
       "      <td>6.944483</td>\n",
       "      <td>0.485721</td>\n",
       "      <td>6.170360</td>\n",
       "      <td>11.236464</td>\n",
       "    </tr>\n",
       "  </tbody>\n",
       "</table>\n",
       "</div>"
      ],
      "text/plain": [
       "   Visitors yearly  Visitors to locals ratio  Employment        GDP\n",
       "0         7.477121                  0.369216    6.780397  11.809641\n",
       "1         7.284047                  0.130334    6.797190  11.800469\n",
       "2         7.079181                  0.442480    6.382321  11.399915\n",
       "3         6.845098                  0.012837    6.455633  11.379310\n",
       "4         6.944483                  0.485721    6.170360  11.236464"
      ]
     },
     "execution_count": 15,
     "metadata": {},
     "output_type": "execute_result"
    }
   ],
   "source": [
    "df.head()"
   ]
  },
  {
   "cell_type": "code",
   "execution_count": 16,
   "metadata": {},
   "outputs": [],
   "source": [
    "#Let's do some plots to get familiar with the data"
   ]
  },
  {
   "cell_type": "code",
   "execution_count": 17,
   "metadata": {},
   "outputs": [
    {
     "data": {
      "text/plain": [
       "(0, 4)"
      ]
     },
     "execution_count": 17,
     "metadata": {},
     "output_type": "execute_result"
    },
    {
     "data": {
      "image/png": "[encoded data removed]",
      "text/plain": [
       "<Figure size 864x720 with 2 Axes>"
      ]
     },
     "metadata": {
      "needs_background": "light"
     },
     "output_type": "display_data"
    }
   ],
   "source": [
    "f,ax = plt.subplots(figsize=(12, 10))\n",
    "sns.heatmap(df.corr(), annot=True, linewidths=.5)\n",
    "ax.set_ylim([0,4])"
   ]
  },
  {
   "cell_type": "markdown",
   "metadata": {},
   "source": [
    "The next graph is showing a boxplot for each of the selected variables. A boxplot is a graph that gives you a good indication of how the values in the data are spread out. Boxplots are a standardized way of displaying the distribution of data based on a five-number summary (“minimum”, first quartile (Q1), median, third quartile (Q3), and “maximum”)."
   ]
  },
  {
   "cell_type": "code",
   "execution_count": 17,
   "metadata": {},
   "outputs": [
    {
     "data": {
      "application/vnd.plotly.v1+json": {
       "config": {
        "linkText": "Export to plot.ly",
        "plotlyServerURL": "https://plot.ly",
        "showLink": true
       },
       "data": [
        {
         "boxpoints": false,
         "line": {
          "width": 1.3
         },
         "marker": {
          "color": "rgba(255, 153, 51, 1.0)"
         },
         "name": "Visitors yearly",
         "orientation": "v",
         "type": "box",
         "y": [
          7.477121254719663,
          7.284047031603395,
          7.079181246047625,
          6.845098040014257,
          6.944482672150168,
          7.1303337684950066,
          7.477121254719663,
          6.674803934969901,
          6.8561244442423,
          6.778151250383644,
          7.4623979978989565,
          7.301029995663981,
          6.57978359661681,
          6.944482672150168,
          7.204119982655925,
          7.041392685158225,
          6.568201724066995,
          7.477121254719663,
          6.653212513775344,
          6.681241237375588,
          6.778151250383644,
          6.886490725172482,
          7.4623979978989565,
          6.041392685158225,
          6.778151250383644,
          6.6020599913279625,
          7.041392685158225,
          6.903089986991944,
          6.033103143930004,
          6.204119982655925,
          6.698970004336019,
          6.763427993562937,
          6.477121254719663,
          6.6020599913279625,
          6.176091259055681,
          5.9237619608287,
          6.477121254719663,
          6.698970004336019,
          7.204119982655925,
          6.544068044350276,
          6.556302500767287,
          6.653212513775344
         ]
        },
        {
         "boxpoints": false,
         "line": {
          "width": 1.3
         },
         "marker": {
          "color": "rgba(55, 128, 191, 1.0)"
         },
         "name": "Visitors to locals ratio",
         "orientation": "v",
         "type": "box",
         "y": [
          0.3692158574101428,
          0.13033376849500614,
          0.4424797690644486,
          0.012837224705172217,
          0.48572142648158,
          0.3424226808222063,
          0.7387805584843692,
          0.31806333496276157,
          0.34044411484011833,
          0.3521825181113625,
          0.8162412999917831,
          0.8585371975696391,
          0.13987908640123647,
          0.5211380837040362,
          0.7888751157754168,
          0.7596678446896304,
          0.03342375548694973,
          1.0051805125037803,
          0.17609125905568124,
          0.5526682161121932,
          0.45939248775923086,
          0.6009728956867483,
          1.0464951643347082,
          -0.2218487496163564,
          0.6522463410033232,
          0.43456890403419873,
          0.5185139398778874,
          0.5646660642520893,
          -0.00877392430750515,
          -0.026872146400301365,
          0.756636108245848,
          0.6683859166900001,
          0.4608978427565479,
          0.7201593034059569,
          0.43933269383026263,
          -0.2596373105057561,
          0.6803355134145632,
          0.6910814921229684,
          1.2962262872611605,
          0.5717088318086876,
          0.7126497016272114,
          0.8876173003357362
         ]
        },
        {
         "boxpoints": false,
         "line": {
          "width": 1.3
         },
         "marker": {
          "color": "rgba(50, 171, 96, 1.0)"
         },
         "name": "Employment",
         "orientation": "v",
         "type": "box",
         "y": [
          6.780396849167846,
          6.797190095133077,
          6.382321403361993,
          6.455633188591688,
          6.170360033817797,
          6.3951049880173585,
          6.297709530467576,
          6.052089972069982,
          6.210097621032899,
          6.110974281123747,
          6.264337303107311,
          6.16639458727924,
          6.149201755929788,
          5.969640419976324,
          5.931457870689005,
          5.8840452612930685,
          6.038167146942638,
          6.120654860363858,
          6.079181246047625,
          5.850868532155524,
          5.968584444855908,
          5.958806045949997,
          6.0685661668453355,
          5.918805918998894,
          5.84884775927662,
          5.85386872099846,
          6.185559435634763,
          5.826736759098909,
          5.654062262135749,
          5.954386767755619,
          5.670718865017757,
          5.741981883523126,
          5.606286756008231,
          5.575797277464586,
          5.414530475939196,
          5.709584540868918,
          5.380279999561388,
          5.622272270491747,
          5.5409384116565805,
          5.641413622357233,
          5.521253182650655,
          5.4647577316228855
         ]
        },
        {
         "boxpoints": false,
         "line": {
          "width": 1.3
         },
         "marker": {
          "color": "rgba(128, 0, 128, 1.0)"
         },
         "name": "GDP",
         "orientation": "v",
         "type": "box",
         "y": [
          11.809641152364463,
          11.800469184822964,
          11.39991545006711,
          11.379310159871382,
          11.236463898823361,
          11.210930756377088,
          11.188871136237303,
          11.171038290418078,
          11.16501699674416,
          11.142765775027971,
          11.140662800654596,
          11.140177576993057,
          11.128969680990869,
          11.097916409237325,
          11.089905111439398,
          11.070987470575231,
          11.02755896968147,
          10.976202101093836,
          10.954242509439325,
          10.899501392092317,
          10.897381618060685,
          10.876552608538468,
          10.86724963778772,
          10.858825829269609,
          10.83480632300779,
          10.793877514135588,
          10.963787827345556,
          10.758480379960385,
          10.685247884477691,
          10.681241237375588,
          10.59879400735944,
          10.576747576853023,
          10.53678159239608,
          10.53312407238159,
          10.522066376438463,
          10.509751832946526,
          10.50576145928115,
          10.426068608517792,
          10.40238831309671,
          10.389588474012701,
          10.345883212931712,
          10.272168481691192
         ]
        }
       ],
       "layout": {
        "legend": {
         "bgcolor": "#F5F6F9",
         "font": {
          "color": "#4D5663"
         }
        },
        "paper_bgcolor": "#F5F6F9",
        "plot_bgcolor": "#F5F6F9",
        "template": {
         "data": {
          "bar": [
           {
            "error_x": {
             "color": "#2a3f5f"
            },
            "error_y": {
             "color": "#2a3f5f"
            },
            "marker": {
             "line": {
              "color": "#E5ECF6",
              "width": 0.5
             }
            },
            "type": "bar"
           }
          ],
          "barpolar": [
           {
            "marker": {
             "line": {
              "color": "#E5ECF6",
              "width": 0.5
             }
            },
            "type": "barpolar"
           }
          ],
          "carpet": [
           {
            "aaxis": {
             "endlinecolor": "#2a3f5f",
             "gridcolor": "white",
             "linecolor": "white",
             "minorgridcolor": "white",
             "startlinecolor": "#2a3f5f"
            },
            "baxis": {
             "endlinecolor": "#2a3f5f",
             "gridcolor": "white",
             "linecolor": "white",
             "minorgridcolor": "white",
             "startlinecolor": "#2a3f5f"
            },
            "type": "carpet"
           }
          ],
          "choropleth": [
           {
            "colorbar": {
             "outlinewidth": 0,
             "ticks": ""
            },
            "type": "choropleth"
           }
          ],
          "contour": [
           {
            "colorbar": {
             "outlinewidth": 0,
             "ticks": ""
            },
            "colorscale": [
             [
              0,
              "#0d0887"
             ],
             [
              0.1111111111111111,
              "#46039f"
             ],
             [
              0.2222222222222222,
              "#7201a8"
             ],
             [
              0.3333333333333333,
              "#9c179e"
             ],
             [
              0.4444444444444444,
              "#bd3786"
             ],
             [
              0.5555555555555556,
              "#d8576b"
             ],
             [
              0.6666666666666666,
              "#ed7953"
             ],
             [
              0.7777777777777778,
              "#fb9f3a"
             ],
             [
              0.8888888888888888,
              "#fdca26"
             ],
             [
              1,
              "#f0f921"
             ]
            ],
            "type": "contour"
           }
          ],
          "contourcarpet": [
           {
            "colorbar": {
             "outlinewidth": 0,
             "ticks": ""
            },
            "type": "contourcarpet"
           }
          ],
          "heatmap": [
           {
            "colorbar": {
             "outlinewidth": 0,
             "ticks": ""
            },
            "colorscale": [
             [
              0,
              "#0d0887"
             ],
             [
              0.1111111111111111,
              "#46039f"
             ],
             [
              0.2222222222222222,
              "#7201a8"
             ],
             [
              0.3333333333333333,
              "#9c179e"
             ],
             [
              0.4444444444444444,
              "#bd3786"
             ],
             [
              0.5555555555555556,
              "#d8576b"
             ],
             [
              0.6666666666666666,
              "#ed7953"
             ],
             [
              0.7777777777777778,
              "#fb9f3a"
             ],
             [
              0.8888888888888888,
              "#fdca26"
             ],
             [
              1,
              "#f0f921"
             ]
            ],
            "type": "heatmap"
           }
          ],
          "heatmapgl": [
           {
            "colorbar": {
             "outlinewidth": 0,
             "ticks": ""
            },
            "colorscale": [
             [
              0,
              "#0d0887"
             ],
             [
              0.1111111111111111,
              "#46039f"
             ],
             [
              0.2222222222222222,
              "#7201a8"
             ],
             [
              0.3333333333333333,
              "#9c179e"
             ],
             [
              0.4444444444444444,
              "#bd3786"
             ],
             [
              0.5555555555555556,
              "#d8576b"
             ],
             [
              0.6666666666666666,
              "#ed7953"
             ],
             [
              0.7777777777777778,
              "#fb9f3a"
             ],
             [
              0.8888888888888888,
              "#fdca26"
             ],
             [
              1,
              "#f0f921"
             ]
            ],
            "type": "heatmapgl"
           }
          ],
          "histogram": [
           {
            "marker": {
             "colorbar": {
              "outlinewidth": 0,
              "ticks": ""
             }
            },
            "type": "histogram"
           }
          ],
          "histogram2d": [
           {
            "colorbar": {
             "outlinewidth": 0,
             "ticks": ""
            },
            "colorscale": [
             [
              0,
              "#0d0887"
             ],
             [
              0.1111111111111111,
              "#46039f"
             ],
             [
              0.2222222222222222,
              "#7201a8"
             ],
             [
              0.3333333333333333,
              "#9c179e"
             ],
             [
              0.4444444444444444,
              "#bd3786"
             ],
             [
              0.5555555555555556,
              "#d8576b"
             ],
             [
              0.6666666666666666,
              "#ed7953"
             ],
             [
              0.7777777777777778,
              "#fb9f3a"
             ],
             [
              0.8888888888888888,
              "#fdca26"
             ],
             [
              1,
              "#f0f921"
             ]
            ],
            "type": "histogram2d"
           }
          ],
          "histogram2dcontour": [
           {
            "colorbar": {
             "outlinewidth": 0,
             "ticks": ""
            },
            "colorscale": [
             [
              0,
              "#0d0887"
             ],
             [
              0.1111111111111111,
              "#46039f"
             ],
             [
              0.2222222222222222,
              "#7201a8"
             ],
             [
              0.3333333333333333,
              "#9c179e"
             ],
             [
              0.4444444444444444,
              "#bd3786"
             ],
             [
              0.5555555555555556,
              "#d8576b"
             ],
             [
              0.6666666666666666,
              "#ed7953"
             ],
             [
              0.7777777777777778,
              "#fb9f3a"
             ],
             [
              0.8888888888888888,
              "#fdca26"
             ],
             [
              1,
              "#f0f921"
             ]
            ],
            "type": "histogram2dcontour"
           }
          ],
          "mesh3d": [
           {
            "colorbar": {
             "outlinewidth": 0,
             "ticks": ""
            },
            "type": "mesh3d"
           }
          ],
          "parcoords": [
           {
            "line": {
             "colorbar": {
              "outlinewidth": 0,
              "ticks": ""
             }
            },
            "type": "parcoords"
           }
          ],
          "pie": [
           {
            "automargin": true,
            "type": "pie"
           }
          ],
          "scatter": [
           {
            "marker": {
             "colorbar": {
              "outlinewidth": 0,
              "ticks": ""
             }
            },
            "type": "scatter"
           }
          ],
          "scatter3d": [
           {
            "line": {
             "colorbar": {
              "outlinewidth": 0,
              "ticks": ""
             }
            },
            "marker": {
             "colorbar": {
              "outlinewidth": 0,
              "ticks": ""
             }
            },
            "type": "scatter3d"
           }
          ],
          "scattercarpet": [
           {
            "marker": {
             "colorbar": {
              "outlinewidth": 0,
              "ticks": ""
             }
            },
            "type": "scattercarpet"
           }
          ],
          "scattergeo": [
           {
            "marker": {
             "colorbar": {
              "outlinewidth": 0,
              "ticks": ""
             }
            },
            "type": "scattergeo"
           }
          ],
          "scattergl": [
           {
            "marker": {
             "colorbar": {
              "outlinewidth": 0,
              "ticks": ""
             }
            },
            "type": "scattergl"
           }
          ],
          "scattermapbox": [
           {
            "marker": {
             "colorbar": {
              "outlinewidth": 0,
              "ticks": ""
             }
            },
            "type": "scattermapbox"
           }
          ],
          "scatterpolar": [
           {
            "marker": {
             "colorbar": {
              "outlinewidth": 0,
              "ticks": ""
             }
            },
            "type": "scatterpolar"
           }
          ],
          "scatterpolargl": [
           {
            "marker": {
             "colorbar": {
              "outlinewidth": 0,
              "ticks": ""
             }
            },
            "type": "scatterpolargl"
           }
          ],
          "scatterternary": [
           {
            "marker": {
             "colorbar": {
              "outlinewidth": 0,
              "ticks": ""
             }
            },
            "type": "scatterternary"
           }
          ],
          "surface": [
           {
            "colorbar": {
             "outlinewidth": 0,
             "ticks": ""
            },
            "colorscale": [
             [
              0,
              "#0d0887"
             ],
             [
              0.1111111111111111,
              "#46039f"
             ],
             [
              0.2222222222222222,
              "#7201a8"
             ],
             [
              0.3333333333333333,
              "#9c179e"
             ],
             [
              0.4444444444444444,
              "#bd3786"
             ],
             [
              0.5555555555555556,
              "#d8576b"
             ],
             [
              0.6666666666666666,
              "#ed7953"
             ],
             [
              0.7777777777777778,
              "#fb9f3a"
             ],
             [
              0.8888888888888888,
              "#fdca26"
             ],
             [
              1,
              "#f0f921"
             ]
            ],
            "type": "surface"
           }
          ],
          "table": [
           {
            "cells": {
             "fill": {
              "color": "#EBF0F8"
             },
             "line": {
              "color": "white"
             }
            },
            "header": {
             "fill": {
              "color": "#C8D4E3"
             },
             "line": {
              "color": "white"
             }
            },
            "type": "table"
           }
          ]
         },
         "layout": {
          "annotationdefaults": {
           "arrowcolor": "#2a3f5f",
           "arrowhead": 0,
           "arrowwidth": 1
          },
          "coloraxis": {
           "colorbar": {
            "outlinewidth": 0,
            "ticks": ""
           }
          },
          "colorscale": {
           "diverging": [
            [
             0,
             "#8e0152"
            ],
            [
             0.1,
             "#c51b7d"
            ],
            [
             0.2,
             "#de77ae"
            ],
            [
             0.3,
             "#f1b6da"
            ],
            [
             0.4,
             "#fde0ef"
            ],
            [
             0.5,
             "#f7f7f7"
            ],
            [
             0.6,
             "#e6f5d0"
            ],
            [
             0.7,
             "#b8e186"
            ],
            [
             0.8,
             "#7fbc41"
            ],
            [
             0.9,
             "#4d9221"
            ],
            [
             1,
             "#276419"
            ]
           ],
           "sequential": [
            [
             0,
             "#0d0887"
            ],
            [
             0.1111111111111111,
             "#46039f"
            ],
            [
             0.2222222222222222,
             "#7201a8"
            ],
            [
             0.3333333333333333,
             "#9c179e"
            ],
            [
             0.4444444444444444,
             "#bd3786"
            ],
            [
             0.5555555555555556,
             "#d8576b"
            ],
            [
             0.6666666666666666,
             "#ed7953"
            ],
            [
             0.7777777777777778,
             "#fb9f3a"
            ],
            [
             0.8888888888888888,
             "#fdca26"
            ],
            [
             1,
             "#f0f921"
            ]
           ],
           "sequentialminus": [
            [
             0,
             "#0d0887"
            ],
            [
             0.1111111111111111,
             "#46039f"
            ],
            [
             0.2222222222222222,
             "#7201a8"
            ],
            [
             0.3333333333333333,
             "#9c179e"
            ],
            [
             0.4444444444444444,
             "#bd3786"
            ],
            [
             0.5555555555555556,
             "#d8576b"
            ],
            [
             0.6666666666666666,
             "#ed7953"
            ],
            [
             0.7777777777777778,
             "#fb9f3a"
            ],
            [
             0.8888888888888888,
             "#fdca26"
            ],
            [
             1,
             "#f0f921"
            ]
           ]
          },
          "colorway": [
           "#636efa",
           "#EF553B",
           "#00cc96",
           "#ab63fa",
           "#FFA15A",
           "#19d3f3",
           "#FF6692",
           "#B6E880",
           "#FF97FF",
           "#FECB52"
          ],
          "font": {
           "color": "#2a3f5f"
          },
          "geo": {
           "bgcolor": "white",
           "lakecolor": "white",
           "landcolor": "#E5ECF6",
           "showlakes": true,
           "showland": true,
           "subunitcolor": "white"
          },
          "hoverlabel": {
           "align": "left"
          },
          "hovermode": "closest",
          "mapbox": {
           "style": "light"
          },
          "paper_bgcolor": "white",
          "plot_bgcolor": "#E5ECF6",
          "polar": {
           "angularaxis": {
            "gridcolor": "white",
            "linecolor": "white",
            "ticks": ""
           },
           "bgcolor": "#E5ECF6",
           "radialaxis": {
            "gridcolor": "white",
            "linecolor": "white",
            "ticks": ""
           }
          },
          "scene": {
           "xaxis": {
            "backgroundcolor": "#E5ECF6",
            "gridcolor": "white",
            "gridwidth": 2,
            "linecolor": "white",
            "showbackground": true,
            "ticks": "",
            "zerolinecolor": "white"
           },
           "yaxis": {
            "backgroundcolor": "#E5ECF6",
            "gridcolor": "white",
            "gridwidth": 2,
            "linecolor": "white",
            "showbackground": true,
            "ticks": "",
            "zerolinecolor": "white"
           },
           "zaxis": {
            "backgroundcolor": "#E5ECF6",
            "gridcolor": "white",
            "gridwidth": 2,
            "linecolor": "white",
            "showbackground": true,
            "ticks": "",
            "zerolinecolor": "white"
           }
          },
          "shapedefaults": {
           "line": {
            "color": "#2a3f5f"
           }
          },
          "ternary": {
           "aaxis": {
            "gridcolor": "white",
            "linecolor": "white",
            "ticks": ""
           },
           "baxis": {
            "gridcolor": "white",
            "linecolor": "white",
            "ticks": ""
           },
           "bgcolor": "#E5ECF6",
           "caxis": {
            "gridcolor": "white",
            "linecolor": "white",
            "ticks": ""
           }
          },
          "title": {
           "x": 0.05
          },
          "xaxis": {
           "automargin": true,
           "gridcolor": "white",
           "linecolor": "white",
           "ticks": "",
           "title": {
            "standoff": 15
           },
           "zerolinecolor": "white",
           "zerolinewidth": 2
          },
          "yaxis": {
           "automargin": true,
           "gridcolor": "white",
           "linecolor": "white",
           "ticks": "",
           "title": {
            "standoff": 15
           },
           "zerolinecolor": "white",
           "zerolinewidth": 2
          }
         }
        },
        "title": {
         "font": {
          "color": "#4D5663"
         }
        },
        "xaxis": {
         "gridcolor": "#E1E5ED",
         "showgrid": true,
         "tickfont": {
          "color": "#4D5663"
         },
         "title": {
          "font": {
           "color": "#4D5663"
          },
          "text": ""
         },
         "zerolinecolor": "#E1E5ED"
        },
        "yaxis": {
         "gridcolor": "#E1E5ED",
         "showgrid": true,
         "tickfont": {
          "color": "#4D5663"
         },
         "title": {
          "font": {
           "color": "#4D5663"
          },
          "text": ""
         },
         "zerolinecolor": "#E1E5ED"
        }
       }
      },
      "text/html": [
       "<div>\n",
       "        \n",
       "        \n",
       "            <div id=\"849bc7d7-01b3-4bc7-a344-c462a8d14327\" class=\"plotly-graph-div\" style=\"height:525px; width:100%;\"></div>\n",
       "            <script type=\"text/javascript\">\n",
       "                require([\"plotly\"], function(Plotly) {\n",
       "                    window.PLOTLYENV=window.PLOTLYENV || {};\n",
       "                    window.PLOTLYENV.BASE_URL='https://plot.ly';\n",
       "                    \n",
       "                if (document.getElementById(\"849bc7d7-01b3-4bc7-a344-c462a8d14327\")) {\n",
       "                    Plotly.newPlot(\n",
       "                        '849bc7d7-01b3-4bc7-a344-c462a8d14327',\n",
       "                        [{\"boxpoints\": false, \"line\": {\"width\": 1.3}, \"marker\": {\"color\": \"rgba(255, 153, 51, 1.0)\"}, \"name\": \"Visitors yearly\", \"orientation\": \"v\", \"type\": \"box\", \"y\": [7.477121254719663, 7.284047031603395, 7.079181246047625, 6.845098040014257, 6.944482672150168, 7.1303337684950066, 7.477121254719663, 6.674803934969901, 6.8561244442423, 6.778151250383644, 7.4623979978989565, 7.301029995663981, 6.57978359661681, 6.944482672150168, 7.204119982655925, 7.041392685158225, 6.568201724066995, 7.477121254719663, 6.653212513775344, 6.681241237375588, 6.778151250383644, 6.886490725172482, 7.4623979978989565, 6.041392685158225, 6.778151250383644, 6.6020599913279625, 7.041392685158225, 6.903089986991944, 6.033103143930004, 6.204119982655925, 6.698970004336019, 6.763427993562937, 6.477121254719663, 6.6020599913279625, 6.176091259055681, 5.9237619608287, 6.477121254719663, 6.698970004336019, 7.204119982655925, 6.544068044350276, 6.556302500767287, 6.653212513775344]}, {\"boxpoints\": false, \"line\": {\"width\": 1.3}, \"marker\": {\"color\": \"rgba(55, 128, 191, 1.0)\"}, \"name\": \"Visitors to locals ratio\", \"orientation\": \"v\", \"type\": \"box\", \"y\": [0.3692158574101428, 0.13033376849500614, 0.4424797690644486, 0.012837224705172217, 0.48572142648158, 0.3424226808222063, 0.7387805584843692, 0.31806333496276157, 0.34044411484011833, 0.3521825181113625, 0.8162412999917831, 0.8585371975696391, 0.13987908640123647, 0.5211380837040362, 0.7888751157754168, 0.7596678446896304, 0.03342375548694973, 1.0051805125037803, 0.17609125905568124, 0.5526682161121932, 0.45939248775923086, 0.6009728956867483, 1.0464951643347082, -0.2218487496163564, 0.6522463410033232, 0.43456890403419873, 0.5185139398778874, 0.5646660642520893, -0.00877392430750515, -0.026872146400301365, 0.756636108245848, 0.6683859166900001, 0.4608978427565479, 0.7201593034059569, 0.43933269383026263, -0.2596373105057561, 0.6803355134145632, 0.6910814921229684, 1.2962262872611605, 0.5717088318086876, 0.7126497016272114, 0.8876173003357362]}, {\"boxpoints\": false, \"line\": {\"width\": 1.3}, \"marker\": {\"color\": \"rgba(50, 171, 96, 1.0)\"}, \"name\": \"Employment\", \"orientation\": \"v\", \"type\": \"box\", \"y\": [6.780396849167846, 6.797190095133077, 6.382321403361993, 6.455633188591688, 6.170360033817797, 6.3951049880173585, 6.297709530467576, 6.052089972069982, 6.210097621032899, 6.110974281123747, 6.264337303107311, 6.16639458727924, 6.149201755929788, 5.969640419976324, 5.931457870689005, 5.8840452612930685, 6.038167146942638, 6.120654860363858, 6.079181246047625, 5.850868532155524, 5.968584444855908, 5.958806045949997, 6.0685661668453355, 5.918805918998894, 5.84884775927662, 5.85386872099846, 6.185559435634763, 5.826736759098909, 5.654062262135749, 5.954386767755619, 5.670718865017757, 5.741981883523126, 5.606286756008231, 5.575797277464586, 5.414530475939196, 5.709584540868918, 5.380279999561388, 5.622272270491747, 5.5409384116565805, 5.641413622357233, 5.521253182650655, 5.4647577316228855]}, {\"boxpoints\": false, \"line\": {\"width\": 1.3}, \"marker\": {\"color\": \"rgba(128, 0, 128, 1.0)\"}, \"name\": \"GDP\", \"orientation\": \"v\", \"type\": \"box\", \"y\": [11.809641152364463, 11.800469184822964, 11.39991545006711, 11.379310159871382, 11.236463898823361, 11.210930756377088, 11.188871136237303, 11.171038290418078, 11.16501699674416, 11.142765775027971, 11.140662800654596, 11.140177576993057, 11.128969680990869, 11.097916409237325, 11.089905111439398, 11.070987470575231, 11.02755896968147, 10.976202101093836, 10.954242509439325, 10.899501392092317, 10.897381618060685, 10.876552608538468, 10.86724963778772, 10.858825829269609, 10.83480632300779, 10.793877514135588, 10.963787827345556, 10.758480379960385, 10.685247884477691, 10.681241237375588, 10.59879400735944, 10.576747576853023, 10.53678159239608, 10.53312407238159, 10.522066376438463, 10.509751832946526, 10.50576145928115, 10.426068608517792, 10.40238831309671, 10.389588474012701, 10.345883212931712, 10.272168481691192]}],\n",
       "                        {\"legend\": {\"bgcolor\": \"#F5F6F9\", \"font\": {\"color\": \"#4D5663\"}}, \"paper_bgcolor\": \"#F5F6F9\", \"plot_bgcolor\": \"#F5F6F9\", \"template\": {\"data\": {\"bar\": [{\"error_x\": {\"color\": \"#2a3f5f\"}, \"error_y\": {\"color\": \"#2a3f5f\"}, \"marker\": {\"line\": {\"color\": \"#E5ECF6\", \"width\": 0.5}}, \"type\": \"bar\"}], \"barpolar\": [{\"marker\": {\"line\": {\"color\": \"#E5ECF6\", \"width\": 0.5}}, \"type\": \"barpolar\"}], \"carpet\": [{\"aaxis\": {\"endlinecolor\": \"#2a3f5f\", \"gridcolor\": \"white\", \"linecolor\": \"white\", \"minorgridcolor\": \"white\", \"startlinecolor\": \"#2a3f5f\"}, \"baxis\": {\"endlinecolor\": \"#2a3f5f\", \"gridcolor\": \"white\", \"linecolor\": \"white\", \"minorgridcolor\": \"white\", \"startlinecolor\": \"#2a3f5f\"}, \"type\": \"carpet\"}], \"choropleth\": [{\"colorbar\": {\"outlinewidth\": 0, \"ticks\": \"\"}, \"type\": \"choropleth\"}], \"contour\": [{\"colorbar\": {\"outlinewidth\": 0, \"ticks\": \"\"}, \"colorscale\": [[0.0, \"#0d0887\"], [0.1111111111111111, \"#46039f\"], [0.2222222222222222, \"#7201a8\"], [0.3333333333333333, \"#9c179e\"], [0.4444444444444444, \"#bd3786\"], [0.5555555555555556, \"#d8576b\"], [0.6666666666666666, \"#ed7953\"], [0.7777777777777778, \"#fb9f3a\"], [0.8888888888888888, \"#fdca26\"], [1.0, \"#f0f921\"]], \"type\": \"contour\"}], \"contourcarpet\": [{\"colorbar\": {\"outlinewidth\": 0, \"ticks\": \"\"}, \"type\": \"contourcarpet\"}], \"heatmap\": [{\"colorbar\": {\"outlinewidth\": 0, \"ticks\": \"\"}, \"colorscale\": [[0.0, \"#0d0887\"], [0.1111111111111111, \"#46039f\"], [0.2222222222222222, \"#7201a8\"], [0.3333333333333333, \"#9c179e\"], [0.4444444444444444, \"#bd3786\"], [0.5555555555555556, \"#d8576b\"], [0.6666666666666666, \"#ed7953\"], [0.7777777777777778, \"#fb9f3a\"], [0.8888888888888888, \"#fdca26\"], [1.0, \"#f0f921\"]], \"type\": \"heatmap\"}], \"heatmapgl\": [{\"colorbar\": {\"outlinewidth\": 0, \"ticks\": \"\"}, \"colorscale\": [[0.0, \"#0d0887\"], [0.1111111111111111, \"#46039f\"], [0.2222222222222222, \"#7201a8\"], [0.3333333333333333, \"#9c179e\"], [0.4444444444444444, \"#bd3786\"], [0.5555555555555556, \"#d8576b\"], [0.6666666666666666, \"#ed7953\"], [0.7777777777777778, \"#fb9f3a\"], [0.8888888888888888, \"#fdca26\"], [1.0, \"#f0f921\"]], \"type\": \"heatmapgl\"}], \"histogram\": [{\"marker\": {\"colorbar\": {\"outlinewidth\": 0, \"ticks\": \"\"}}, \"type\": \"histogram\"}], \"histogram2d\": [{\"colorbar\": {\"outlinewidth\": 0, \"ticks\": \"\"}, \"colorscale\": [[0.0, \"#0d0887\"], [0.1111111111111111, \"#46039f\"], [0.2222222222222222, \"#7201a8\"], [0.3333333333333333, \"#9c179e\"], [0.4444444444444444, \"#bd3786\"], [0.5555555555555556, \"#d8576b\"], [0.6666666666666666, \"#ed7953\"], [0.7777777777777778, \"#fb9f3a\"], [0.8888888888888888, \"#fdca26\"], [1.0, \"#f0f921\"]], \"type\": \"histogram2d\"}], \"histogram2dcontour\": [{\"colorbar\": {\"outlinewidth\": 0, \"ticks\": \"\"}, \"colorscale\": [[0.0, \"#0d0887\"], [0.1111111111111111, \"#46039f\"], [0.2222222222222222, \"#7201a8\"], [0.3333333333333333, \"#9c179e\"], [0.4444444444444444, \"#bd3786\"], [0.5555555555555556, \"#d8576b\"], [0.6666666666666666, \"#ed7953\"], [0.7777777777777778, \"#fb9f3a\"], [0.8888888888888888, \"#fdca26\"], [1.0, \"#f0f921\"]], \"type\": \"histogram2dcontour\"}], \"mesh3d\": [{\"colorbar\": {\"outlinewidth\": 0, \"ticks\": \"\"}, \"type\": \"mesh3d\"}], \"parcoords\": [{\"line\": {\"colorbar\": {\"outlinewidth\": 0, \"ticks\": \"\"}}, \"type\": \"parcoords\"}], \"pie\": [{\"automargin\": true, \"type\": \"pie\"}], \"scatter\": [{\"marker\": {\"colorbar\": {\"outlinewidth\": 0, \"ticks\": \"\"}}, \"type\": \"scatter\"}], \"scatter3d\": [{\"line\": {\"colorbar\": {\"outlinewidth\": 0, \"ticks\": \"\"}}, \"marker\": {\"colorbar\": {\"outlinewidth\": 0, \"ticks\": \"\"}}, \"type\": \"scatter3d\"}], \"scattercarpet\": [{\"marker\": {\"colorbar\": {\"outlinewidth\": 0, \"ticks\": \"\"}}, \"type\": \"scattercarpet\"}], \"scattergeo\": [{\"marker\": {\"colorbar\": {\"outlinewidth\": 0, \"ticks\": \"\"}}, \"type\": \"scattergeo\"}], \"scattergl\": [{\"marker\": {\"colorbar\": {\"outlinewidth\": 0, \"ticks\": \"\"}}, \"type\": \"scattergl\"}], \"scattermapbox\": [{\"marker\": {\"colorbar\": {\"outlinewidth\": 0, \"ticks\": \"\"}}, \"type\": \"scattermapbox\"}], \"scatterpolar\": [{\"marker\": {\"colorbar\": {\"outlinewidth\": 0, \"ticks\": \"\"}}, \"type\": \"scatterpolar\"}], \"scatterpolargl\": [{\"marker\": {\"colorbar\": {\"outlinewidth\": 0, \"ticks\": \"\"}}, \"type\": \"scatterpolargl\"}], \"scatterternary\": [{\"marker\": {\"colorbar\": {\"outlinewidth\": 0, \"ticks\": \"\"}}, \"type\": \"scatterternary\"}], \"surface\": [{\"colorbar\": {\"outlinewidth\": 0, \"ticks\": \"\"}, \"colorscale\": [[0.0, \"#0d0887\"], [0.1111111111111111, \"#46039f\"], [0.2222222222222222, \"#7201a8\"], [0.3333333333333333, \"#9c179e\"], [0.4444444444444444, \"#bd3786\"], [0.5555555555555556, \"#d8576b\"], [0.6666666666666666, \"#ed7953\"], [0.7777777777777778, \"#fb9f3a\"], [0.8888888888888888, \"#fdca26\"], [1.0, \"#f0f921\"]], \"type\": \"surface\"}], \"table\": [{\"cells\": {\"fill\": {\"color\": \"#EBF0F8\"}, \"line\": {\"color\": \"white\"}}, \"header\": {\"fill\": {\"color\": \"#C8D4E3\"}, \"line\": {\"color\": \"white\"}}, \"type\": \"table\"}]}, \"layout\": {\"annotationdefaults\": {\"arrowcolor\": \"#2a3f5f\", \"arrowhead\": 0, \"arrowwidth\": 1}, \"coloraxis\": {\"colorbar\": {\"outlinewidth\": 0, \"ticks\": \"\"}}, \"colorscale\": {\"diverging\": [[0, \"#8e0152\"], [0.1, \"#c51b7d\"], [0.2, \"#de77ae\"], [0.3, \"#f1b6da\"], [0.4, \"#fde0ef\"], [0.5, \"#f7f7f7\"], [0.6, \"#e6f5d0\"], [0.7, \"#b8e186\"], [0.8, \"#7fbc41\"], [0.9, \"#4d9221\"], [1, \"#276419\"]], \"sequential\": [[0.0, \"#0d0887\"], [0.1111111111111111, \"#46039f\"], [0.2222222222222222, \"#7201a8\"], [0.3333333333333333, \"#9c179e\"], [0.4444444444444444, \"#bd3786\"], [0.5555555555555556, \"#d8576b\"], [0.6666666666666666, \"#ed7953\"], [0.7777777777777778, \"#fb9f3a\"], [0.8888888888888888, \"#fdca26\"], [1.0, \"#f0f921\"]], \"sequentialminus\": [[0.0, \"#0d0887\"], [0.1111111111111111, \"#46039f\"], [0.2222222222222222, \"#7201a8\"], [0.3333333333333333, \"#9c179e\"], [0.4444444444444444, \"#bd3786\"], [0.5555555555555556, \"#d8576b\"], [0.6666666666666666, \"#ed7953\"], [0.7777777777777778, \"#fb9f3a\"], [0.8888888888888888, \"#fdca26\"], [1.0, \"#f0f921\"]]}, \"colorway\": [\"#636efa\", \"#EF553B\", \"#00cc96\", \"#ab63fa\", \"#FFA15A\", \"#19d3f3\", \"#FF6692\", \"#B6E880\", \"#FF97FF\", \"#FECB52\"], \"font\": {\"color\": \"#2a3f5f\"}, \"geo\": {\"bgcolor\": \"white\", \"lakecolor\": \"white\", \"landcolor\": \"#E5ECF6\", \"showlakes\": true, \"showland\": true, \"subunitcolor\": \"white\"}, \"hoverlabel\": {\"align\": \"left\"}, \"hovermode\": \"closest\", \"mapbox\": {\"style\": \"light\"}, \"paper_bgcolor\": \"white\", \"plot_bgcolor\": \"#E5ECF6\", \"polar\": {\"angularaxis\": {\"gridcolor\": \"white\", \"linecolor\": \"white\", \"ticks\": \"\"}, \"bgcolor\": \"#E5ECF6\", \"radialaxis\": {\"gridcolor\": \"white\", \"linecolor\": \"white\", \"ticks\": \"\"}}, \"scene\": {\"xaxis\": {\"backgroundcolor\": \"#E5ECF6\", \"gridcolor\": \"white\", \"gridwidth\": 2, \"linecolor\": \"white\", \"showbackground\": true, \"ticks\": \"\", \"zerolinecolor\": \"white\"}, \"yaxis\": {\"backgroundcolor\": \"#E5ECF6\", \"gridcolor\": \"white\", \"gridwidth\": 2, \"linecolor\": \"white\", \"showbackground\": true, \"ticks\": \"\", \"zerolinecolor\": \"white\"}, \"zaxis\": {\"backgroundcolor\": \"#E5ECF6\", \"gridcolor\": \"white\", \"gridwidth\": 2, \"linecolor\": \"white\", \"showbackground\": true, \"ticks\": \"\", \"zerolinecolor\": \"white\"}}, \"shapedefaults\": {\"line\": {\"color\": \"#2a3f5f\"}}, \"ternary\": {\"aaxis\": {\"gridcolor\": \"white\", \"linecolor\": \"white\", \"ticks\": \"\"}, \"baxis\": {\"gridcolor\": \"white\", \"linecolor\": \"white\", \"ticks\": \"\"}, \"bgcolor\": \"#E5ECF6\", \"caxis\": {\"gridcolor\": \"white\", \"linecolor\": \"white\", \"ticks\": \"\"}}, \"title\": {\"x\": 0.05}, \"xaxis\": {\"automargin\": true, \"gridcolor\": \"white\", \"linecolor\": \"white\", \"ticks\": \"\", \"title\": {\"standoff\": 15}, \"zerolinecolor\": \"white\", \"zerolinewidth\": 2}, \"yaxis\": {\"automargin\": true, \"gridcolor\": \"white\", \"linecolor\": \"white\", \"ticks\": \"\", \"title\": {\"standoff\": 15}, \"zerolinecolor\": \"white\", \"zerolinewidth\": 2}}}, \"title\": {\"font\": {\"color\": \"#4D5663\"}}, \"xaxis\": {\"gridcolor\": \"#E1E5ED\", \"showgrid\": true, \"tickfont\": {\"color\": \"#4D5663\"}, \"title\": {\"font\": {\"color\": \"#4D5663\"}, \"text\": \"\"}, \"zerolinecolor\": \"#E1E5ED\"}, \"yaxis\": {\"gridcolor\": \"#E1E5ED\", \"showgrid\": true, \"tickfont\": {\"color\": \"#4D5663\"}, \"title\": {\"font\": {\"color\": \"#4D5663\"}, \"text\": \"\"}, \"zerolinecolor\": \"#E1E5ED\"}},\n",
       "                        {\"showLink\": true, \"linkText\": \"Export to plot.ly\", \"plotlyServerURL\": \"https://plot.ly\", \"responsive\": true}\n",
       "                    ).then(function(){\n",
       "                            \n",
       "var gd = document.getElementById('849bc7d7-01b3-4bc7-a344-c462a8d14327');\n",
       "var x = new MutationObserver(function (mutations, observer) {{\n",
       "        var display = window.getComputedStyle(gd).display;\n",
       "        if (!display || display === 'none') {{\n",
       "            console.log([gd, 'removed!']);\n",
       "            Plotly.purge(gd);\n",
       "            observer.disconnect();\n",
       "        }}\n",
       "}});\n",
       "\n",
       "// Listen for the removal of the full notebook cells\n",
       "var notebookContainer = gd.closest('#notebook-container');\n",
       "if (notebookContainer) {{\n",
       "    x.observe(notebookContainer, {childList: true});\n",
       "}}\n",
       "\n",
       "// Listen for the clearing of the current output cell\n",
       "var outputEl = gd.closest('.output');\n",
       "if (outputEl) {{\n",
       "    x.observe(outputEl, {childList: true});\n",
       "}}\n",
       "\n",
       "                        })\n",
       "                };\n",
       "                });\n",
       "            </script>\n",
       "        </div>"
      ]
     },
     "metadata": {},
     "output_type": "display_data"
    }
   ],
   "source": [
    "df.iplot(kind='box')"
   ]
  },
  {
   "cell_type": "markdown",
   "metadata": {},
   "source": [
    "Median (50th Percentile) is the middle value of the dataset, first quartile (Q1/25th Percentile) is the middle number between the smallest number (not the “minimum”) and the median of the dataset, third quartile (Q3/75th Percentile) is the middle value between the median and the highest value (not the “maximum”) of the dataset, interquartile range (IQR) is the 25th to the 75th percentile and outliers (shown as green circles), in our figure we can see that there is no outliers and that and that most of the variables are normally distributed. "
   ]
  },
  {
   "attachments": {
    "image.png": {
     "image/png": "[encoded data removed]"
    }
   },
   "cell_type": "markdown",
   "metadata": {},
   "source": [
    "![image.png](attachment:image.png)"
   ]
  },
  {
   "cell_type": "markdown",
   "metadata": {},
   "source": [
    "In the following figure we can see a line char for all the variables and it shows how high the GDP numbers are in compare to other variables, it also shows variability in all the other variables but not in the GDP line representation that looks like a straight one."
   ]
  },
  {
   "cell_type": "code",
   "execution_count": 18,
   "metadata": {},
   "outputs": [
    {
     "data": {
      "application/vnd.plotly.v1+json": {
       "config": {
        "linkText": "Export to plot.ly",
        "plotlyServerURL": "https://plot.ly",
        "showLink": true
       },
       "data": [
        {
         "line": {
          "color": "rgba(255, 153, 51, 1.0)",
          "dash": "solid",
          "shape": "linear",
          "width": 1.3
         },
         "mode": "lines",
         "name": "Visitors yearly",
         "text": "",
         "type": "scatter",
         "x": [
          0,
          1,
          2,
          3,
          4,
          5,
          6,
          7,
          8,
          9,
          10,
          11,
          12,
          13,
          14,
          15,
          16,
          17,
          18,
          19,
          20,
          21,
          22,
          23,
          24,
          25,
          26,
          27,
          28,
          29,
          30,
          31,
          32,
          33,
          34,
          35,
          36,
          37,
          38,
          39,
          40,
          41
         ],
         "y": [
          7.477121254719663,
          7.284047031603395,
          7.079181246047625,
          6.845098040014257,
          6.944482672150168,
          7.1303337684950066,
          7.477121254719663,
          6.674803934969901,
          6.8561244442423,
          6.778151250383644,
          7.4623979978989565,
          7.301029995663981,
          6.57978359661681,
          6.944482672150168,
          7.204119982655925,
          7.041392685158225,
          6.568201724066995,
          7.477121254719663,
          6.653212513775344,
          6.681241237375588,
          6.778151250383644,
          6.886490725172482,
          7.4623979978989565,
          6.041392685158225,
          6.778151250383644,
          6.6020599913279625,
          7.041392685158225,
          6.903089986991944,
          6.033103143930004,
          6.204119982655925,
          6.698970004336019,
          6.763427993562937,
          6.477121254719663,
          6.6020599913279625,
          6.176091259055681,
          5.9237619608287,
          6.477121254719663,
          6.698970004336019,
          7.204119982655925,
          6.544068044350276,
          6.556302500767287,
          6.653212513775344
         ]
        },
        {
         "line": {
          "color": "rgba(55, 128, 191, 1.0)",
          "dash": "solid",
          "shape": "linear",
          "width": 1.3
         },
         "mode": "lines",
         "name": "Visitors to locals ratio",
         "text": "",
         "type": "scatter",
         "x": [
          0,
          1,
          2,
          3,
          4,
          5,
          6,
          7,
          8,
          9,
          10,
          11,
          12,
          13,
          14,
          15,
          16,
          17,
          18,
          19,
          20,
          21,
          22,
          23,
          24,
          25,
          26,
          27,
          28,
          29,
          30,
          31,
          32,
          33,
          34,
          35,
          36,
          37,
          38,
          39,
          40,
          41
         ],
         "y": [
          0.3692158574101428,
          0.13033376849500614,
          0.4424797690644486,
          0.012837224705172217,
          0.48572142648158,
          0.3424226808222063,
          0.7387805584843692,
          0.31806333496276157,
          0.34044411484011833,
          0.3521825181113625,
          0.8162412999917831,
          0.8585371975696391,
          0.13987908640123647,
          0.5211380837040362,
          0.7888751157754168,
          0.7596678446896304,
          0.03342375548694973,
          1.0051805125037803,
          0.17609125905568124,
          0.5526682161121932,
          0.45939248775923086,
          0.6009728956867483,
          1.0464951643347082,
          -0.2218487496163564,
          0.6522463410033232,
          0.43456890403419873,
          0.5185139398778874,
          0.5646660642520893,
          -0.00877392430750515,
          -0.026872146400301365,
          0.756636108245848,
          0.6683859166900001,
          0.4608978427565479,
          0.7201593034059569,
          0.43933269383026263,
          -0.2596373105057561,
          0.6803355134145632,
          0.6910814921229684,
          1.2962262872611605,
          0.5717088318086876,
          0.7126497016272114,
          0.8876173003357362
         ]
        },
        {
         "line": {
          "color": "rgba(50, 171, 96, 1.0)",
          "dash": "solid",
          "shape": "linear",
          "width": 1.3
         },
         "mode": "lines",
         "name": "Employment",
         "text": "",
         "type": "scatter",
         "x": [
          0,
          1,
          2,
          3,
          4,
          5,
          6,
          7,
          8,
          9,
          10,
          11,
          12,
          13,
          14,
          15,
          16,
          17,
          18,
          19,
          20,
          21,
          22,
          23,
          24,
          25,
          26,
          27,
          28,
          29,
          30,
          31,
          32,
          33,
          34,
          35,
          36,
          37,
          38,
          39,
          40,
          41
         ],
         "y": [
          6.780396849167846,
          6.797190095133077,
          6.382321403361993,
          6.455633188591688,
          6.170360033817797,
          6.3951049880173585,
          6.297709530467576,
          6.052089972069982,
          6.210097621032899,
          6.110974281123747,
          6.264337303107311,
          6.16639458727924,
          6.149201755929788,
          5.969640419976324,
          5.931457870689005,
          5.8840452612930685,
          6.038167146942638,
          6.120654860363858,
          6.079181246047625,
          5.850868532155524,
          5.968584444855908,
          5.958806045949997,
          6.0685661668453355,
          5.918805918998894,
          5.84884775927662,
          5.85386872099846,
          6.185559435634763,
          5.826736759098909,
          5.654062262135749,
          5.954386767755619,
          5.670718865017757,
          5.741981883523126,
          5.606286756008231,
          5.575797277464586,
          5.414530475939196,
          5.709584540868918,
          5.380279999561388,
          5.622272270491747,
          5.5409384116565805,
          5.641413622357233,
          5.521253182650655,
          5.4647577316228855
         ]
        },
        {
         "line": {
          "color": "rgba(128, 0, 128, 1.0)",
          "dash": "solid",
          "shape": "linear",
          "width": 1.3
         },
         "mode": "lines",
         "name": "GDP",
         "text": "",
         "type": "scatter",
         "x": [
          0,
          1,
          2,
          3,
          4,
          5,
          6,
          7,
          8,
          9,
          10,
          11,
          12,
          13,
          14,
          15,
          16,
          17,
          18,
          19,
          20,
          21,
          22,
          23,
          24,
          25,
          26,
          27,
          28,
          29,
          30,
          31,
          32,
          33,
          34,
          35,
          36,
          37,
          38,
          39,
          40,
          41
         ],
         "y": [
          11.809641152364463,
          11.800469184822964,
          11.39991545006711,
          11.379310159871382,
          11.236463898823361,
          11.210930756377088,
          11.188871136237303,
          11.171038290418078,
          11.16501699674416,
          11.142765775027971,
          11.140662800654596,
          11.140177576993057,
          11.128969680990869,
          11.097916409237325,
          11.089905111439398,
          11.070987470575231,
          11.02755896968147,
          10.976202101093836,
          10.954242509439325,
          10.899501392092317,
          10.897381618060685,
          10.876552608538468,
          10.86724963778772,
          10.858825829269609,
          10.83480632300779,
          10.793877514135588,
          10.963787827345556,
          10.758480379960385,
          10.685247884477691,
          10.681241237375588,
          10.59879400735944,
          10.576747576853023,
          10.53678159239608,
          10.53312407238159,
          10.522066376438463,
          10.509751832946526,
          10.50576145928115,
          10.426068608517792,
          10.40238831309671,
          10.389588474012701,
          10.345883212931712,
          10.272168481691192
         ]
        }
       ],
       "layout": {
        "legend": {
         "bgcolor": "#F5F6F9",
         "font": {
          "color": "#4D5663"
         }
        },
        "paper_bgcolor": "#F5F6F9",
        "plot_bgcolor": "#F5F6F9",
        "template": {
         "data": {
          "bar": [
           {
            "error_x": {
             "color": "#2a3f5f"
            },
            "error_y": {
             "color": "#2a3f5f"
            },
            "marker": {
             "line": {
              "color": "#E5ECF6",
              "width": 0.5
             }
            },
            "type": "bar"
           }
          ],
          "barpolar": [
           {
            "marker": {
             "line": {
              "color": "#E5ECF6",
              "width": 0.5
             }
            },
            "type": "barpolar"
           }
          ],
          "carpet": [
           {
            "aaxis": {
             "endlinecolor": "#2a3f5f",
             "gridcolor": "white",
             "linecolor": "white",
             "minorgridcolor": "white",
             "startlinecolor": "#2a3f5f"
            },
            "baxis": {
             "endlinecolor": "#2a3f5f",
             "gridcolor": "white",
             "linecolor": "white",
             "minorgridcolor": "white",
             "startlinecolor": "#2a3f5f"
            },
            "type": "carpet"
           }
          ],
          "choropleth": [
           {
            "colorbar": {
             "outlinewidth": 0,
             "ticks": ""
            },
            "type": "choropleth"
           }
          ],
          "contour": [
           {
            "colorbar": {
             "outlinewidth": 0,
             "ticks": ""
            },
            "colorscale": [
             [
              0,
              "#0d0887"
             ],
             [
              0.1111111111111111,
              "#46039f"
             ],
             [
              0.2222222222222222,
              "#7201a8"
             ],
             [
              0.3333333333333333,
              "#9c179e"
             ],
             [
              0.4444444444444444,
              "#bd3786"
             ],
             [
              0.5555555555555556,
              "#d8576b"
             ],
             [
              0.6666666666666666,
              "#ed7953"
             ],
             [
              0.7777777777777778,
              "#fb9f3a"
             ],
             [
              0.8888888888888888,
              "#fdca26"
             ],
             [
              1,
              "#f0f921"
             ]
            ],
            "type": "contour"
           }
          ],
          "contourcarpet": [
           {
            "colorbar": {
             "outlinewidth": 0,
             "ticks": ""
            },
            "type": "contourcarpet"
           }
          ],
          "heatmap": [
           {
            "colorbar": {
             "outlinewidth": 0,
             "ticks": ""
            },
            "colorscale": [
             [
              0,
              "#0d0887"
             ],
             [
              0.1111111111111111,
              "#46039f"
             ],
             [
              0.2222222222222222,
              "#7201a8"
             ],
             [
              0.3333333333333333,
              "#9c179e"
             ],
             [
              0.4444444444444444,
              "#bd3786"
             ],
             [
              0.5555555555555556,
              "#d8576b"
             ],
             [
              0.6666666666666666,
              "#ed7953"
             ],
             [
              0.7777777777777778,
              "#fb9f3a"
             ],
             [
              0.8888888888888888,
              "#fdca26"
             ],
             [
              1,
              "#f0f921"
             ]
            ],
            "type": "heatmap"
           }
          ],
          "heatmapgl": [
           {
            "colorbar": {
             "outlinewidth": 0,
             "ticks": ""
            },
            "colorscale": [
             [
              0,
              "#0d0887"
             ],
             [
              0.1111111111111111,
              "#46039f"
             ],
             [
              0.2222222222222222,
              "#7201a8"
             ],
             [
              0.3333333333333333,
              "#9c179e"
             ],
             [
              0.4444444444444444,
              "#bd3786"
             ],
             [
              0.5555555555555556,
              "#d8576b"
             ],
             [
              0.6666666666666666,
              "#ed7953"
             ],
             [
              0.7777777777777778,
              "#fb9f3a"
             ],
             [
              0.8888888888888888,
              "#fdca26"
             ],
             [
              1,
              "#f0f921"
             ]
            ],
            "type": "heatmapgl"
           }
          ],
          "histogram": [
           {
            "marker": {
             "colorbar": {
              "outlinewidth": 0,
              "ticks": ""
             }
            },
            "type": "histogram"
           }
          ],
          "histogram2d": [
           {
            "colorbar": {
             "outlinewidth": 0,
             "ticks": ""
            },
            "colorscale": [
             [
              0,
              "#0d0887"
             ],
             [
              0.1111111111111111,
              "#46039f"
             ],
             [
              0.2222222222222222,
              "#7201a8"
             ],
             [
              0.3333333333333333,
              "#9c179e"
             ],
             [
              0.4444444444444444,
              "#bd3786"
             ],
             [
              0.5555555555555556,
              "#d8576b"
             ],
             [
              0.6666666666666666,
              "#ed7953"
             ],
             [
              0.7777777777777778,
              "#fb9f3a"
             ],
             [
              0.8888888888888888,
              "#fdca26"
             ],
             [
              1,
              "#f0f921"
             ]
            ],
            "type": "histogram2d"
           }
          ],
          "histogram2dcontour": [
           {
            "colorbar": {
             "outlinewidth": 0,
             "ticks": ""
            },
            "colorscale": [
             [
              0,
              "#0d0887"
             ],
             [
              0.1111111111111111,
              "#46039f"
             ],
             [
              0.2222222222222222,
              "#7201a8"
             ],
             [
              0.3333333333333333,
              "#9c179e"
             ],
             [
              0.4444444444444444,
              "#bd3786"
             ],
             [
              0.5555555555555556,
              "#d8576b"
             ],
             [
              0.6666666666666666,
              "#ed7953"
             ],
             [
              0.7777777777777778,
              "#fb9f3a"
             ],
             [
              0.8888888888888888,
              "#fdca26"
             ],
             [
              1,
              "#f0f921"
             ]
            ],
            "type": "histogram2dcontour"
           }
          ],
          "mesh3d": [
           {
            "colorbar": {
             "outlinewidth": 0,
             "ticks": ""
            },
            "type": "mesh3d"
           }
          ],
          "parcoords": [
           {
            "line": {
             "colorbar": {
              "outlinewidth": 0,
              "ticks": ""
             }
            },
            "type": "parcoords"
           }
          ],
          "pie": [
           {
            "automargin": true,
            "type": "pie"
           }
          ],
          "scatter": [
           {
            "marker": {
             "colorbar": {
              "outlinewidth": 0,
              "ticks": ""
             }
            },
            "type": "scatter"
           }
          ],
          "scatter3d": [
           {
            "line": {
             "colorbar": {
              "outlinewidth": 0,
              "ticks": ""
             }
            },
            "marker": {
             "colorbar": {
              "outlinewidth": 0,
              "ticks": ""
             }
            },
            "type": "scatter3d"
           }
          ],
          "scattercarpet": [
           {
            "marker": {
             "colorbar": {
              "outlinewidth": 0,
              "ticks": ""
             }
            },
            "type": "scattercarpet"
           }
          ],
          "scattergeo": [
           {
            "marker": {
             "colorbar": {
              "outlinewidth": 0,
              "ticks": ""
             }
            },
            "type": "scattergeo"
           }
          ],
          "scattergl": [
           {
            "marker": {
             "colorbar": {
              "outlinewidth": 0,
              "ticks": ""
             }
            },
            "type": "scattergl"
           }
          ],
          "scattermapbox": [
           {
            "marker": {
             "colorbar": {
              "outlinewidth": 0,
              "ticks": ""
             }
            },
            "type": "scattermapbox"
           }
          ],
          "scatterpolar": [
           {
            "marker": {
             "colorbar": {
              "outlinewidth": 0,
              "ticks": ""
             }
            },
            "type": "scatterpolar"
           }
          ],
          "scatterpolargl": [
           {
            "marker": {
             "colorbar": {
              "outlinewidth": 0,
              "ticks": ""
             }
            },
            "type": "scatterpolargl"
           }
          ],
          "scatterternary": [
           {
            "marker": {
             "colorbar": {
              "outlinewidth": 0,
              "ticks": ""
             }
            },
            "type": "scatterternary"
           }
          ],
          "surface": [
           {
            "colorbar": {
             "outlinewidth": 0,
             "ticks": ""
            },
            "colorscale": [
             [
              0,
              "#0d0887"
             ],
             [
              0.1111111111111111,
              "#46039f"
             ],
             [
              0.2222222222222222,
              "#7201a8"
             ],
             [
              0.3333333333333333,
              "#9c179e"
             ],
             [
              0.4444444444444444,
              "#bd3786"
             ],
             [
              0.5555555555555556,
              "#d8576b"
             ],
             [
              0.6666666666666666,
              "#ed7953"
             ],
             [
              0.7777777777777778,
              "#fb9f3a"
             ],
             [
              0.8888888888888888,
              "#fdca26"
             ],
             [
              1,
              "#f0f921"
             ]
            ],
            "type": "surface"
           }
          ],
          "table": [
           {
            "cells": {
             "fill": {
              "color": "#EBF0F8"
             },
             "line": {
              "color": "white"
             }
            },
            "header": {
             "fill": {
              "color": "#C8D4E3"
             },
             "line": {
              "color": "white"
             }
            },
            "type": "table"
           }
          ]
         },
         "layout": {
          "annotationdefaults": {
           "arrowcolor": "#2a3f5f",
           "arrowhead": 0,
           "arrowwidth": 1
          },
          "coloraxis": {
           "colorbar": {
            "outlinewidth": 0,
            "ticks": ""
           }
          },
          "colorscale": {
           "diverging": [
            [
             0,
             "#8e0152"
            ],
            [
             0.1,
             "#c51b7d"
            ],
            [
             0.2,
             "#de77ae"
            ],
            [
             0.3,
             "#f1b6da"
            ],
            [
             0.4,
             "#fde0ef"
            ],
            [
             0.5,
             "#f7f7f7"
            ],
            [
             0.6,
             "#e6f5d0"
            ],
            [
             0.7,
             "#b8e186"
            ],
            [
             0.8,
             "#7fbc41"
            ],
            [
             0.9,
             "#4d9221"
            ],
            [
             1,
             "#276419"
            ]
           ],
           "sequential": [
            [
             0,
             "#0d0887"
            ],
            [
             0.1111111111111111,
             "#46039f"
            ],
            [
             0.2222222222222222,
             "#7201a8"
            ],
            [
             0.3333333333333333,
             "#9c179e"
            ],
            [
             0.4444444444444444,
             "#bd3786"
            ],
            [
             0.5555555555555556,
             "#d8576b"
            ],
            [
             0.6666666666666666,
             "#ed7953"
            ],
            [
             0.7777777777777778,
             "#fb9f3a"
            ],
            [
             0.8888888888888888,
             "#fdca26"
            ],
            [
             1,
             "#f0f921"
            ]
           ],
           "sequentialminus": [
            [
             0,
             "#0d0887"
            ],
            [
             0.1111111111111111,
             "#46039f"
            ],
            [
             0.2222222222222222,
             "#7201a8"
            ],
            [
             0.3333333333333333,
             "#9c179e"
            ],
            [
             0.4444444444444444,
             "#bd3786"
            ],
            [
             0.5555555555555556,
             "#d8576b"
            ],
            [
             0.6666666666666666,
             "#ed7953"
            ],
            [
             0.7777777777777778,
             "#fb9f3a"
            ],
            [
             0.8888888888888888,
             "#fdca26"
            ],
            [
             1,
             "#f0f921"
            ]
           ]
          },
          "colorway": [
           "#636efa",
           "#EF553B",
           "#00cc96",
           "#ab63fa",
           "#FFA15A",
           "#19d3f3",
           "#FF6692",
           "#B6E880",
           "#FF97FF",
           "#FECB52"
          ],
          "font": {
           "color": "#2a3f5f"
          },
          "geo": {
           "bgcolor": "white",
           "lakecolor": "white",
           "landcolor": "#E5ECF6",
           "showlakes": true,
           "showland": true,
           "subunitcolor": "white"
          },
          "hoverlabel": {
           "align": "left"
          },
          "hovermode": "closest",
          "mapbox": {
           "style": "light"
          },
          "paper_bgcolor": "white",
          "plot_bgcolor": "#E5ECF6",
          "polar": {
           "angularaxis": {
            "gridcolor": "white",
            "linecolor": "white",
            "ticks": ""
           },
           "bgcolor": "#E5ECF6",
           "radialaxis": {
            "gridcolor": "white",
            "linecolor": "white",
            "ticks": ""
           }
          },
          "scene": {
           "xaxis": {
            "backgroundcolor": "#E5ECF6",
            "gridcolor": "white",
            "gridwidth": 2,
            "linecolor": "white",
            "showbackground": true,
            "ticks": "",
            "zerolinecolor": "white"
           },
           "yaxis": {
            "backgroundcolor": "#E5ECF6",
            "gridcolor": "white",
            "gridwidth": 2,
            "linecolor": "white",
            "showbackground": true,
            "ticks": "",
            "zerolinecolor": "white"
           },
           "zaxis": {
            "backgroundcolor": "#E5ECF6",
            "gridcolor": "white",
            "gridwidth": 2,
            "linecolor": "white",
            "showbackground": true,
            "ticks": "",
            "zerolinecolor": "white"
           }
          },
          "shapedefaults": {
           "line": {
            "color": "#2a3f5f"
           }
          },
          "ternary": {
           "aaxis": {
            "gridcolor": "white",
            "linecolor": "white",
            "ticks": ""
           },
           "baxis": {
            "gridcolor": "white",
            "linecolor": "white",
            "ticks": ""
           },
           "bgcolor": "#E5ECF6",
           "caxis": {
            "gridcolor": "white",
            "linecolor": "white",
            "ticks": ""
           }
          },
          "title": {
           "x": 0.05
          },
          "xaxis": {
           "automargin": true,
           "gridcolor": "white",
           "linecolor": "white",
           "ticks": "",
           "title": {
            "standoff": 15
           },
           "zerolinecolor": "white",
           "zerolinewidth": 2
          },
          "yaxis": {
           "automargin": true,
           "gridcolor": "white",
           "linecolor": "white",
           "ticks": "",
           "title": {
            "standoff": 15
           },
           "zerolinecolor": "white",
           "zerolinewidth": 2
          }
         }
        },
        "title": {
         "font": {
          "color": "#4D5663"
         }
        },
        "xaxis": {
         "gridcolor": "#E1E5ED",
         "showgrid": true,
         "tickfont": {
          "color": "#4D5663"
         },
         "title": {
          "font": {
           "color": "#4D5663"
          },
          "text": ""
         },
         "zerolinecolor": "#E1E5ED"
        },
        "yaxis": {
         "gridcolor": "#E1E5ED",
         "showgrid": true,
         "tickfont": {
          "color": "#4D5663"
         },
         "title": {
          "font": {
           "color": "#4D5663"
          },
          "text": ""
         },
         "zerolinecolor": "#E1E5ED"
        }
       }
      },
      "text/html": [
       "<div>\n",
       "        \n",
       "        \n",
       "            <div id=\"dcc82b3a-39d7-4239-8bf8-dc864788080d\" class=\"plotly-graph-div\" style=\"height:525px; width:100%;\"></div>\n",
       "            <script type=\"text/javascript\">\n",
       "                require([\"plotly\"], function(Plotly) {\n",
       "                    window.PLOTLYENV=window.PLOTLYENV || {};\n",
       "                    window.PLOTLYENV.BASE_URL='https://plot.ly';\n",
       "                    \n",
       "                if (document.getElementById(\"dcc82b3a-39d7-4239-8bf8-dc864788080d\")) {\n",
       "                    Plotly.newPlot(\n",
       "                        'dcc82b3a-39d7-4239-8bf8-dc864788080d',\n",
       "                        [{\"line\": {\"color\": \"rgba(255, 153, 51, 1.0)\", \"dash\": \"solid\", \"shape\": \"linear\", \"width\": 1.3}, \"mode\": \"lines\", \"name\": \"Visitors yearly\", \"text\": \"\", \"type\": \"scatter\", \"x\": [0, 1, 2, 3, 4, 5, 6, 7, 8, 9, 10, 11, 12, 13, 14, 15, 16, 17, 18, 19, 20, 21, 22, 23, 24, 25, 26, 27, 28, 29, 30, 31, 32, 33, 34, 35, 36, 37, 38, 39, 40, 41], \"y\": [7.477121254719663, 7.284047031603395, 7.079181246047625, 6.845098040014257, 6.944482672150168, 7.1303337684950066, 7.477121254719663, 6.674803934969901, 6.8561244442423, 6.778151250383644, 7.4623979978989565, 7.301029995663981, 6.57978359661681, 6.944482672150168, 7.204119982655925, 7.041392685158225, 6.568201724066995, 7.477121254719663, 6.653212513775344, 6.681241237375588, 6.778151250383644, 6.886490725172482, 7.4623979978989565, 6.041392685158225, 6.778151250383644, 6.6020599913279625, 7.041392685158225, 6.903089986991944, 6.033103143930004, 6.204119982655925, 6.698970004336019, 6.763427993562937, 6.477121254719663, 6.6020599913279625, 6.176091259055681, 5.9237619608287, 6.477121254719663, 6.698970004336019, 7.204119982655925, 6.544068044350276, 6.556302500767287, 6.653212513775344]}, {\"line\": {\"color\": \"rgba(55, 128, 191, 1.0)\", \"dash\": \"solid\", \"shape\": \"linear\", \"width\": 1.3}, \"mode\": \"lines\", \"name\": \"Visitors to locals ratio\", \"text\": \"\", \"type\": \"scatter\", \"x\": [0, 1, 2, 3, 4, 5, 6, 7, 8, 9, 10, 11, 12, 13, 14, 15, 16, 17, 18, 19, 20, 21, 22, 23, 24, 25, 26, 27, 28, 29, 30, 31, 32, 33, 34, 35, 36, 37, 38, 39, 40, 41], \"y\": [0.3692158574101428, 0.13033376849500614, 0.4424797690644486, 0.012837224705172217, 0.48572142648158, 0.3424226808222063, 0.7387805584843692, 0.31806333496276157, 0.34044411484011833, 0.3521825181113625, 0.8162412999917831, 0.8585371975696391, 0.13987908640123647, 0.5211380837040362, 0.7888751157754168, 0.7596678446896304, 0.03342375548694973, 1.0051805125037803, 0.17609125905568124, 0.5526682161121932, 0.45939248775923086, 0.6009728956867483, 1.0464951643347082, -0.2218487496163564, 0.6522463410033232, 0.43456890403419873, 0.5185139398778874, 0.5646660642520893, -0.00877392430750515, -0.026872146400301365, 0.756636108245848, 0.6683859166900001, 0.4608978427565479, 0.7201593034059569, 0.43933269383026263, -0.2596373105057561, 0.6803355134145632, 0.6910814921229684, 1.2962262872611605, 0.5717088318086876, 0.7126497016272114, 0.8876173003357362]}, {\"line\": {\"color\": \"rgba(50, 171, 96, 1.0)\", \"dash\": \"solid\", \"shape\": \"linear\", \"width\": 1.3}, \"mode\": \"lines\", \"name\": \"Employment\", \"text\": \"\", \"type\": \"scatter\", \"x\": [0, 1, 2, 3, 4, 5, 6, 7, 8, 9, 10, 11, 12, 13, 14, 15, 16, 17, 18, 19, 20, 21, 22, 23, 24, 25, 26, 27, 28, 29, 30, 31, 32, 33, 34, 35, 36, 37, 38, 39, 40, 41], \"y\": [6.780396849167846, 6.797190095133077, 6.382321403361993, 6.455633188591688, 6.170360033817797, 6.3951049880173585, 6.297709530467576, 6.052089972069982, 6.210097621032899, 6.110974281123747, 6.264337303107311, 6.16639458727924, 6.149201755929788, 5.969640419976324, 5.931457870689005, 5.8840452612930685, 6.038167146942638, 6.120654860363858, 6.079181246047625, 5.850868532155524, 5.968584444855908, 5.958806045949997, 6.0685661668453355, 5.918805918998894, 5.84884775927662, 5.85386872099846, 6.185559435634763, 5.826736759098909, 5.654062262135749, 5.954386767755619, 5.670718865017757, 5.741981883523126, 5.606286756008231, 5.575797277464586, 5.414530475939196, 5.709584540868918, 5.380279999561388, 5.622272270491747, 5.5409384116565805, 5.641413622357233, 5.521253182650655, 5.4647577316228855]}, {\"line\": {\"color\": \"rgba(128, 0, 128, 1.0)\", \"dash\": \"solid\", \"shape\": \"linear\", \"width\": 1.3}, \"mode\": \"lines\", \"name\": \"GDP\", \"text\": \"\", \"type\": \"scatter\", \"x\": [0, 1, 2, 3, 4, 5, 6, 7, 8, 9, 10, 11, 12, 13, 14, 15, 16, 17, 18, 19, 20, 21, 22, 23, 24, 25, 26, 27, 28, 29, 30, 31, 32, 33, 34, 35, 36, 37, 38, 39, 40, 41], \"y\": [11.809641152364463, 11.800469184822964, 11.39991545006711, 11.379310159871382, 11.236463898823361, 11.210930756377088, 11.188871136237303, 11.171038290418078, 11.16501699674416, 11.142765775027971, 11.140662800654596, 11.140177576993057, 11.128969680990869, 11.097916409237325, 11.089905111439398, 11.070987470575231, 11.02755896968147, 10.976202101093836, 10.954242509439325, 10.899501392092317, 10.897381618060685, 10.876552608538468, 10.86724963778772, 10.858825829269609, 10.83480632300779, 10.793877514135588, 10.963787827345556, 10.758480379960385, 10.685247884477691, 10.681241237375588, 10.59879400735944, 10.576747576853023, 10.53678159239608, 10.53312407238159, 10.522066376438463, 10.509751832946526, 10.50576145928115, 10.426068608517792, 10.40238831309671, 10.389588474012701, 10.345883212931712, 10.272168481691192]}],\n",
       "                        {\"legend\": {\"bgcolor\": \"#F5F6F9\", \"font\": {\"color\": \"#4D5663\"}}, \"paper_bgcolor\": \"#F5F6F9\", \"plot_bgcolor\": \"#F5F6F9\", \"template\": {\"data\": {\"bar\": [{\"error_x\": {\"color\": \"#2a3f5f\"}, \"error_y\": {\"color\": \"#2a3f5f\"}, \"marker\": {\"line\": {\"color\": \"#E5ECF6\", \"width\": 0.5}}, \"type\": \"bar\"}], \"barpolar\": [{\"marker\": {\"line\": {\"color\": \"#E5ECF6\", \"width\": 0.5}}, \"type\": \"barpolar\"}], \"carpet\": [{\"aaxis\": {\"endlinecolor\": \"#2a3f5f\", \"gridcolor\": \"white\", \"linecolor\": \"white\", \"minorgridcolor\": \"white\", \"startlinecolor\": \"#2a3f5f\"}, \"baxis\": {\"endlinecolor\": \"#2a3f5f\", \"gridcolor\": \"white\", \"linecolor\": \"white\", \"minorgridcolor\": \"white\", \"startlinecolor\": \"#2a3f5f\"}, \"type\": \"carpet\"}], \"choropleth\": [{\"colorbar\": {\"outlinewidth\": 0, \"ticks\": \"\"}, \"type\": \"choropleth\"}], \"contour\": [{\"colorbar\": {\"outlinewidth\": 0, \"ticks\": \"\"}, \"colorscale\": [[0.0, \"#0d0887\"], [0.1111111111111111, \"#46039f\"], [0.2222222222222222, \"#7201a8\"], [0.3333333333333333, \"#9c179e\"], [0.4444444444444444, \"#bd3786\"], [0.5555555555555556, \"#d8576b\"], [0.6666666666666666, \"#ed7953\"], [0.7777777777777778, \"#fb9f3a\"], [0.8888888888888888, \"#fdca26\"], [1.0, \"#f0f921\"]], \"type\": \"contour\"}], \"contourcarpet\": [{\"colorbar\": {\"outlinewidth\": 0, \"ticks\": \"\"}, \"type\": \"contourcarpet\"}], \"heatmap\": [{\"colorbar\": {\"outlinewidth\": 0, \"ticks\": \"\"}, \"colorscale\": [[0.0, \"#0d0887\"], [0.1111111111111111, \"#46039f\"], [0.2222222222222222, \"#7201a8\"], [0.3333333333333333, \"#9c179e\"], [0.4444444444444444, \"#bd3786\"], [0.5555555555555556, \"#d8576b\"], [0.6666666666666666, \"#ed7953\"], [0.7777777777777778, \"#fb9f3a\"], [0.8888888888888888, \"#fdca26\"], [1.0, \"#f0f921\"]], \"type\": \"heatmap\"}], \"heatmapgl\": [{\"colorbar\": {\"outlinewidth\": 0, \"ticks\": \"\"}, \"colorscale\": [[0.0, \"#0d0887\"], [0.1111111111111111, \"#46039f\"], [0.2222222222222222, \"#7201a8\"], [0.3333333333333333, \"#9c179e\"], [0.4444444444444444, \"#bd3786\"], [0.5555555555555556, \"#d8576b\"], [0.6666666666666666, \"#ed7953\"], [0.7777777777777778, \"#fb9f3a\"], [0.8888888888888888, \"#fdca26\"], [1.0, \"#f0f921\"]], \"type\": \"heatmapgl\"}], \"histogram\": [{\"marker\": {\"colorbar\": {\"outlinewidth\": 0, \"ticks\": \"\"}}, \"type\": \"histogram\"}], \"histogram2d\": [{\"colorbar\": {\"outlinewidth\": 0, \"ticks\": \"\"}, \"colorscale\": [[0.0, \"#0d0887\"], [0.1111111111111111, \"#46039f\"], [0.2222222222222222, \"#7201a8\"], [0.3333333333333333, \"#9c179e\"], [0.4444444444444444, \"#bd3786\"], [0.5555555555555556, \"#d8576b\"], [0.6666666666666666, \"#ed7953\"], [0.7777777777777778, \"#fb9f3a\"], [0.8888888888888888, \"#fdca26\"], [1.0, \"#f0f921\"]], \"type\": \"histogram2d\"}], \"histogram2dcontour\": [{\"colorbar\": {\"outlinewidth\": 0, \"ticks\": \"\"}, \"colorscale\": [[0.0, \"#0d0887\"], [0.1111111111111111, \"#46039f\"], [0.2222222222222222, \"#7201a8\"], [0.3333333333333333, \"#9c179e\"], [0.4444444444444444, \"#bd3786\"], [0.5555555555555556, \"#d8576b\"], [0.6666666666666666, \"#ed7953\"], [0.7777777777777778, \"#fb9f3a\"], [0.8888888888888888, \"#fdca26\"], [1.0, \"#f0f921\"]], \"type\": \"histogram2dcontour\"}], \"mesh3d\": [{\"colorbar\": {\"outlinewidth\": 0, \"ticks\": \"\"}, \"type\": \"mesh3d\"}], \"parcoords\": [{\"line\": {\"colorbar\": {\"outlinewidth\": 0, \"ticks\": \"\"}}, \"type\": \"parcoords\"}], \"pie\": [{\"automargin\": true, \"type\": \"pie\"}], \"scatter\": [{\"marker\": {\"colorbar\": {\"outlinewidth\": 0, \"ticks\": \"\"}}, \"type\": \"scatter\"}], \"scatter3d\": [{\"line\": {\"colorbar\": {\"outlinewidth\": 0, \"ticks\": \"\"}}, \"marker\": {\"colorbar\": {\"outlinewidth\": 0, \"ticks\": \"\"}}, \"type\": \"scatter3d\"}], \"scattercarpet\": [{\"marker\": {\"colorbar\": {\"outlinewidth\": 0, \"ticks\": \"\"}}, \"type\": \"scattercarpet\"}], \"scattergeo\": [{\"marker\": {\"colorbar\": {\"outlinewidth\": 0, \"ticks\": \"\"}}, \"type\": \"scattergeo\"}], \"scattergl\": [{\"marker\": {\"colorbar\": {\"outlinewidth\": 0, \"ticks\": \"\"}}, \"type\": \"scattergl\"}], \"scattermapbox\": [{\"marker\": {\"colorbar\": {\"outlinewidth\": 0, \"ticks\": \"\"}}, \"type\": \"scattermapbox\"}], \"scatterpolar\": [{\"marker\": {\"colorbar\": {\"outlinewidth\": 0, \"ticks\": \"\"}}, \"type\": \"scatterpolar\"}], \"scatterpolargl\": [{\"marker\": {\"colorbar\": {\"outlinewidth\": 0, \"ticks\": \"\"}}, \"type\": \"scatterpolargl\"}], \"scatterternary\": [{\"marker\": {\"colorbar\": {\"outlinewidth\": 0, \"ticks\": \"\"}}, \"type\": \"scatterternary\"}], \"surface\": [{\"colorbar\": {\"outlinewidth\": 0, \"ticks\": \"\"}, \"colorscale\": [[0.0, \"#0d0887\"], [0.1111111111111111, \"#46039f\"], [0.2222222222222222, \"#7201a8\"], [0.3333333333333333, \"#9c179e\"], [0.4444444444444444, \"#bd3786\"], [0.5555555555555556, \"#d8576b\"], [0.6666666666666666, \"#ed7953\"], [0.7777777777777778, \"#fb9f3a\"], [0.8888888888888888, \"#fdca26\"], [1.0, \"#f0f921\"]], \"type\": \"surface\"}], \"table\": [{\"cells\": {\"fill\": {\"color\": \"#EBF0F8\"}, \"line\": {\"color\": \"white\"}}, \"header\": {\"fill\": {\"color\": \"#C8D4E3\"}, \"line\": {\"color\": \"white\"}}, \"type\": \"table\"}]}, \"layout\": {\"annotationdefaults\": {\"arrowcolor\": \"#2a3f5f\", \"arrowhead\": 0, \"arrowwidth\": 1}, \"coloraxis\": {\"colorbar\": {\"outlinewidth\": 0, \"ticks\": \"\"}}, \"colorscale\": {\"diverging\": [[0, \"#8e0152\"], [0.1, \"#c51b7d\"], [0.2, \"#de77ae\"], [0.3, \"#f1b6da\"], [0.4, \"#fde0ef\"], [0.5, \"#f7f7f7\"], [0.6, \"#e6f5d0\"], [0.7, \"#b8e186\"], [0.8, \"#7fbc41\"], [0.9, \"#4d9221\"], [1, \"#276419\"]], \"sequential\": [[0.0, \"#0d0887\"], [0.1111111111111111, \"#46039f\"], [0.2222222222222222, \"#7201a8\"], [0.3333333333333333, \"#9c179e\"], [0.4444444444444444, \"#bd3786\"], [0.5555555555555556, \"#d8576b\"], [0.6666666666666666, \"#ed7953\"], [0.7777777777777778, \"#fb9f3a\"], [0.8888888888888888, \"#fdca26\"], [1.0, \"#f0f921\"]], \"sequentialminus\": [[0.0, \"#0d0887\"], [0.1111111111111111, \"#46039f\"], [0.2222222222222222, \"#7201a8\"], [0.3333333333333333, \"#9c179e\"], [0.4444444444444444, \"#bd3786\"], [0.5555555555555556, \"#d8576b\"], [0.6666666666666666, \"#ed7953\"], [0.7777777777777778, \"#fb9f3a\"], [0.8888888888888888, \"#fdca26\"], [1.0, \"#f0f921\"]]}, \"colorway\": [\"#636efa\", \"#EF553B\", \"#00cc96\", \"#ab63fa\", \"#FFA15A\", \"#19d3f3\", \"#FF6692\", \"#B6E880\", \"#FF97FF\", \"#FECB52\"], \"font\": {\"color\": \"#2a3f5f\"}, \"geo\": {\"bgcolor\": \"white\", \"lakecolor\": \"white\", \"landcolor\": \"#E5ECF6\", \"showlakes\": true, \"showland\": true, \"subunitcolor\": \"white\"}, \"hoverlabel\": {\"align\": \"left\"}, \"hovermode\": \"closest\", \"mapbox\": {\"style\": \"light\"}, \"paper_bgcolor\": \"white\", \"plot_bgcolor\": \"#E5ECF6\", \"polar\": {\"angularaxis\": {\"gridcolor\": \"white\", \"linecolor\": \"white\", \"ticks\": \"\"}, \"bgcolor\": \"#E5ECF6\", \"radialaxis\": {\"gridcolor\": \"white\", \"linecolor\": \"white\", \"ticks\": \"\"}}, \"scene\": {\"xaxis\": {\"backgroundcolor\": \"#E5ECF6\", \"gridcolor\": \"white\", \"gridwidth\": 2, \"linecolor\": \"white\", \"showbackground\": true, \"ticks\": \"\", \"zerolinecolor\": \"white\"}, \"yaxis\": {\"backgroundcolor\": \"#E5ECF6\", \"gridcolor\": \"white\", \"gridwidth\": 2, \"linecolor\": \"white\", \"showbackground\": true, \"ticks\": \"\", \"zerolinecolor\": \"white\"}, \"zaxis\": {\"backgroundcolor\": \"#E5ECF6\", \"gridcolor\": \"white\", \"gridwidth\": 2, \"linecolor\": \"white\", \"showbackground\": true, \"ticks\": \"\", \"zerolinecolor\": \"white\"}}, \"shapedefaults\": {\"line\": {\"color\": \"#2a3f5f\"}}, \"ternary\": {\"aaxis\": {\"gridcolor\": \"white\", \"linecolor\": \"white\", \"ticks\": \"\"}, \"baxis\": {\"gridcolor\": \"white\", \"linecolor\": \"white\", \"ticks\": \"\"}, \"bgcolor\": \"#E5ECF6\", \"caxis\": {\"gridcolor\": \"white\", \"linecolor\": \"white\", \"ticks\": \"\"}}, \"title\": {\"x\": 0.05}, \"xaxis\": {\"automargin\": true, \"gridcolor\": \"white\", \"linecolor\": \"white\", \"ticks\": \"\", \"title\": {\"standoff\": 15}, \"zerolinecolor\": \"white\", \"zerolinewidth\": 2}, \"yaxis\": {\"automargin\": true, \"gridcolor\": \"white\", \"linecolor\": \"white\", \"ticks\": \"\", \"title\": {\"standoff\": 15}, \"zerolinecolor\": \"white\", \"zerolinewidth\": 2}}}, \"title\": {\"font\": {\"color\": \"#4D5663\"}}, \"xaxis\": {\"gridcolor\": \"#E1E5ED\", \"showgrid\": true, \"tickfont\": {\"color\": \"#4D5663\"}, \"title\": {\"font\": {\"color\": \"#4D5663\"}, \"text\": \"\"}, \"zerolinecolor\": \"#E1E5ED\"}, \"yaxis\": {\"gridcolor\": \"#E1E5ED\", \"showgrid\": true, \"tickfont\": {\"color\": \"#4D5663\"}, \"title\": {\"font\": {\"color\": \"#4D5663\"}, \"text\": \"\"}, \"zerolinecolor\": \"#E1E5ED\"}},\n",
       "                        {\"showLink\": true, \"linkText\": \"Export to plot.ly\", \"plotlyServerURL\": \"https://plot.ly\", \"responsive\": true}\n",
       "                    ).then(function(){\n",
       "                            \n",
       "var gd = document.getElementById('dcc82b3a-39d7-4239-8bf8-dc864788080d');\n",
       "var x = new MutationObserver(function (mutations, observer) {{\n",
       "        var display = window.getComputedStyle(gd).display;\n",
       "        if (!display || display === 'none') {{\n",
       "            console.log([gd, 'removed!']);\n",
       "            Plotly.purge(gd);\n",
       "            observer.disconnect();\n",
       "        }}\n",
       "}});\n",
       "\n",
       "// Listen for the removal of the full notebook cells\n",
       "var notebookContainer = gd.closest('#notebook-container');\n",
       "if (notebookContainer) {{\n",
       "    x.observe(notebookContainer, {childList: true});\n",
       "}}\n",
       "\n",
       "// Listen for the clearing of the current output cell\n",
       "var outputEl = gd.closest('.output');\n",
       "if (outputEl) {{\n",
       "    x.observe(outputEl, {childList: true});\n",
       "}}\n",
       "\n",
       "                        })\n",
       "                };\n",
       "                });\n",
       "            </script>\n",
       "        </div>"
      ]
     },
     "metadata": {},
     "output_type": "display_data"
    }
   ],
   "source": [
    "df.iplot()"
   ]
  },
  {
   "cell_type": "markdown",
   "metadata": {},
   "source": [
    "Since our dependent variable ‘y’ in our regression model is the number of visitors, in the next following graphs we will be comparing the number of visitors to the other variables on a scatter plot for data visualization and interpretation."
   ]
  },
  {
   "cell_type": "code",
   "execution_count": 19,
   "metadata": {},
   "outputs": [
    {
     "data": {
      "text/plain": [
       "Index(['Visitors yearly', 'Visitors to locals ratio', 'Employment', 'GDP'], dtype='object')"
      ]
     },
     "execution_count": 19,
     "metadata": {},
     "output_type": "execute_result"
    }
   ],
   "source": [
    "df.columns"
   ]
  },
  {
   "cell_type": "code",
   "execution_count": 20,
   "metadata": {},
   "outputs": [
    {
     "data": {
      "text/plain": [
       "<seaborn.axisgrid.FacetGrid at 0x132c45e90>"
      ]
     },
     "execution_count": 20,
     "metadata": {},
     "output_type": "execute_result"
    },
    {
     "data": {
      "image/png": "[encoded data removed]",
      "text/plain": [
       "<Figure size 576x576 with 1 Axes>"
      ]
     },
     "metadata": {
      "needs_background": "light"
     },
     "output_type": "display_data"
    }
   ],
   "source": [
    "sns.lmplot(x='Visitors to locals ratio',y='Visitors yearly',data=df,height=8)"
   ]
  },
  {
   "cell_type": "markdown",
   "metadata": {},
   "source": [
    "we can see the relationship between visitors yearly and visitors to locals ratio, there is a positive correlation, what does a “positive relationship” mean in this context? It means that, in general, higher scores on one variable tend to be paired with higher scores on the other and that lower scores on one variable tend to be paired with lower scores on the other, as in a lot of cases when Visitors to locals ratio increase in a city, number of visitors also increase."
   ]
  },
  {
   "cell_type": "code",
   "execution_count": 21,
   "metadata": {},
   "outputs": [
    {
     "data": {
      "text/plain": [
       "<seaborn.axisgrid.FacetGrid at 0x132e04850>"
      ]
     },
     "execution_count": 21,
     "metadata": {},
     "output_type": "execute_result"
    },
    {
     "data": {
      "image/png": "[encoded data removed]",
      "text/plain": [
       "<Figure size 576x576 with 1 Axes>"
      ]
     },
     "metadata": {
      "needs_background": "light"
     },
     "output_type": "display_data"
    }
   ],
   "source": [
    "sns.lmplot(x='Employment',y='Visitors yearly',data=df,height=8)"
   ]
  },
  {
   "cell_type": "code",
   "execution_count": 22,
   "metadata": {},
   "outputs": [
    {
     "data": {
      "text/plain": [
       "<seaborn.axisgrid.FacetGrid at 0x133147dd0>"
      ]
     },
     "execution_count": 22,
     "metadata": {},
     "output_type": "execute_result"
    },
    {
     "data": {
      "image/png": "[encoded data removed]",
      "text/plain": [
       "<Figure size 576x576 with 1 Axes>"
      ]
     },
     "metadata": {
      "needs_background": "light"
     },
     "output_type": "display_data"
    }
   ],
   "source": [
    "sns.lmplot(x='GDP',y='Visitors yearly',data=df,height=8)"
   ]
  },
  {
   "cell_type": "code",
   "execution_count": null,
   "metadata": {},
   "outputs": [],
   "source": []
  },
  {
   "cell_type": "markdown",
   "metadata": {},
   "source": [
    "# Simple linear Regression"
   ]
  },
  {
   "cell_type": "markdown",
   "metadata": {},
   "source": [
    "Time to make our Simple linear regression model.\n",
    "The linear regression equation has the form y= a + bx, where ‘y’ is the dependent variable, what we are trying to investigate and predict, ‘x’ is the independent variable, all the variables that will help us predict ‘y’, while ‘b’ is the slope of the line and ‘a’ is the y-intercept.\n",
    "\n",
    "First thing we will try to do is to run a simple linear regression model on the most correlated variable with yearly visitors which is visitors to locals ratio, we will be doing this using the OLS method. \n",
    " \n",
    "I will be doing the analysis with two models. Statsmodel and Sklearn, the reason why i'm doing this is because Statsmodel provides us with an amazing summary to meausre our model in a very few lines of code. \n",
    "\n",
    "For the sklearn model, we will be using a train sample of 50% of the data sample which equals 21 observations, keeping 50% for the testing and predicting model, which is another 21 observations. "
   ]
  },
  {
   "cell_type": "code",
   "execution_count": 23,
   "metadata": {},
   "outputs": [],
   "source": [
    "y = df['Visitors yearly']\n",
    "x1= df[['Visitors to locals ratio']]"
   ]
  },
  {
   "cell_type": "code",
   "execution_count": 24,
   "metadata": {},
   "outputs": [],
   "source": [
    "x1_train, x1_test, y_train, y_test = train_test_split(x1, y, test_size=0.5, random_state=101)"
   ]
  },
  {
   "cell_type": "code",
   "execution_count": 25,
   "metadata": {},
   "outputs": [
    {
     "name": "stderr",
     "output_type": "stream",
     "text": [
      "/Users/yasserimam/opt/anaconda3/lib/python3.7/site-packages/numpy/core/fromnumeric.py:2495: FutureWarning:\n",
      "\n",
      "Method .ptp is deprecated and will be removed in a future version. Use numpy.ptp instead.\n",
      "\n"
     ]
    },
    {
     "data": {
      "text/html": [
       "<table class=\"simpletable\">\n",
       "<caption>OLS Regression Results</caption>\n",
       "<tr>\n",
       "  <th>Dep. Variable:</th>     <td>Visitors yearly</td> <th>  R-squared:         </th> <td>   0.548</td>\n",
       "</tr>\n",
       "<tr>\n",
       "  <th>Model:</th>                   <td>OLS</td>       <th>  Adj. R-squared:    </th> <td>   0.524</td>\n",
       "</tr>\n",
       "<tr>\n",
       "  <th>Method:</th>             <td>Least Squares</td>  <th>  F-statistic:       </th> <td>   23.01</td>\n",
       "</tr>\n",
       "<tr>\n",
       "  <th>Date:</th>             <td>Fri, 10 Apr 2020</td> <th>  Prob (F-statistic):</th> <td>0.000125</td>\n",
       "</tr>\n",
       "<tr>\n",
       "  <th>Time:</th>                 <td>17:47:44</td>     <th>  Log-Likelihood:    </th> <td> -3.1033</td>\n",
       "</tr>\n",
       "<tr>\n",
       "  <th>No. Observations:</th>      <td>    21</td>      <th>  AIC:               </th> <td>   10.21</td>\n",
       "</tr>\n",
       "<tr>\n",
       "  <th>Df Residuals:</th>          <td>    19</td>      <th>  BIC:               </th> <td>   12.30</td>\n",
       "</tr>\n",
       "<tr>\n",
       "  <th>Df Model:</th>              <td>     1</td>      <th>                     </th>     <td> </td>   \n",
       "</tr>\n",
       "<tr>\n",
       "  <th>Covariance Type:</th>      <td>nonrobust</td>    <th>                     </th>     <td> </td>   \n",
       "</tr>\n",
       "</table>\n",
       "<table class=\"simpletable\">\n",
       "<tr>\n",
       "              <td></td>                <th>coef</th>     <th>std err</th>      <th>t</th>      <th>P>|t|</th>  <th>[0.025</th>    <th>0.975]</th>  \n",
       "</tr>\n",
       "<tr>\n",
       "  <th>const</th>                    <td>    6.3657</td> <td>    0.128</td> <td>   49.824</td> <td> 0.000</td> <td>    6.098</td> <td>    6.633</td>\n",
       "</tr>\n",
       "<tr>\n",
       "  <th>Visitors to locals ratio</th> <td>    1.0087</td> <td>    0.210</td> <td>    4.797</td> <td> 0.000</td> <td>    0.569</td> <td>    1.449</td>\n",
       "</tr>\n",
       "</table>\n",
       "<table class=\"simpletable\">\n",
       "<tr>\n",
       "  <th>Omnibus:</th>       <td> 2.924</td> <th>  Durbin-Watson:     </th> <td>   2.073</td>\n",
       "</tr>\n",
       "<tr>\n",
       "  <th>Prob(Omnibus):</th> <td> 0.232</td> <th>  Jarque-Bera (JB):  </th> <td>   1.313</td>\n",
       "</tr>\n",
       "<tr>\n",
       "  <th>Skew:</th>          <td> 0.523</td> <th>  Prob(JB):          </th> <td>   0.519</td>\n",
       "</tr>\n",
       "<tr>\n",
       "  <th>Kurtosis:</th>      <td> 3.638</td> <th>  Cond. No.          </th> <td>    4.24</td>\n",
       "</tr>\n",
       "</table><br/><br/>Warnings:<br/>[1] Standard Errors assume that the covariance matrix of the errors is correctly specified."
      ],
      "text/plain": [
       "<class 'statsmodels.iolib.summary.Summary'>\n",
       "\"\"\"\n",
       "                            OLS Regression Results                            \n",
       "==============================================================================\n",
       "Dep. Variable:        Visitors yearly   R-squared:                       0.548\n",
       "Model:                            OLS   Adj. R-squared:                  0.524\n",
       "Method:                 Least Squares   F-statistic:                     23.01\n",
       "Date:                Fri, 10 Apr 2020   Prob (F-statistic):           0.000125\n",
       "Time:                        17:47:44   Log-Likelihood:                -3.1033\n",
       "No. Observations:                  21   AIC:                             10.21\n",
       "Df Residuals:                      19   BIC:                             12.30\n",
       "Df Model:                           1                                         \n",
       "Covariance Type:            nonrobust                                         \n",
       "============================================================================================\n",
       "                               coef    std err          t      P>|t|      [0.025      0.975]\n",
       "--------------------------------------------------------------------------------------------\n",
       "const                        6.3657      0.128     49.824      0.000       6.098       6.633\n",
       "Visitors to locals ratio     1.0087      0.210      4.797      0.000       0.569       1.449\n",
       "==============================================================================\n",
       "Omnibus:                        2.924   Durbin-Watson:                   2.073\n",
       "Prob(Omnibus):                  0.232   Jarque-Bera (JB):                1.313\n",
       "Skew:                           0.523   Prob(JB):                        0.519\n",
       "Kurtosis:                       3.638   Cond. No.                         4.24\n",
       "==============================================================================\n",
       "\n",
       "Warnings:\n",
       "[1] Standard Errors assume that the covariance matrix of the errors is correctly specified.\n",
       "\"\"\""
      ]
     },
     "execution_count": 25,
     "metadata": {},
     "output_type": "execute_result"
    }
   ],
   "source": [
    "x = sm.add_constant(x1_train)\n",
    "results = sm.OLS(y_train,x).fit() \n",
    "results.summary()"
   ]
  },
  {
   "cell_type": "markdown",
   "metadata": {},
   "source": [
    "# Results Interpretation "
   ]
  },
  {
   "cell_type": "markdown",
   "metadata": {},
   "source": [
    "To interpret the results, we will start by explaining what the data refers to;\n",
    "\n",
    "•\tThe Standard Error (std err), is an indication of the reliability of the mean. A small std err is an indication that the sample mean is a more accurate reflection of the actual population mean. A larger sample size will normally result in a smaller std err.\n",
    "\n",
    "• The p value significance help determine whether the relationships that we observe in our sample also exist in the larger population. This is represented by the p-value, the value for each independent variable tests the null hypothesis that the variable has no correlation with the dependent variable. It is standard practice to use the p-values to decide whether to include variables in the final model.  We should only consider working with variables that their p value is less than 0.05 (95% confidence level). Based on that, keeping values that their p value is bigger than 0.05 significance level can reduce the model’s precision.\n",
    "\n",
    "• The regression coefficient are estimates of the actual population parameters. To obtain unbiased coefficient estimates that have the minimum variance, and to be able to trust the p-values, our model must satisfy the six classical assumptions of OLS linear regression. The sign of each coefficient indicates the direction of the relationship between a predictor variable and the response variable. A positive sign indicates that as the predictor variable increases, the response variable also increases. A negative sign indicates that as the predictor variable increases, the response variable decreases.\n",
    "\n",
    "From the table above we have concluded that for a simple linear regression the best variable to fit the data is ‘Visitors to locals ratio’ as it has the lowest p value and the lowest standard error. Hence, our prediction equation would be represented as following:\n",
    "\n",
    "Y = 6.3647 + 1.0082 * X , \n",
    "It also can be: \n",
    "\n",
    "visitors yearly = 6.3647 + 1.0082 * visitors to locals ratio\n",
    "\n",
    "The equation is telling us that visitors each year is predicted to increase 1.0082 times when the visitors to locals ratio variable goes up by one.\n",
    "\n",
    "•\tR-squared is a measure of fitness for linear regression models. This statistic indicates the percentage of the variance in the dependent variable that the independent variables explain collectively. R-squared measures the strength of the relationship between the model and the dependent variable on a convenient (0 – 1) scale. An R-squared equal zero means that a model does not explain any of the variation in the response variable around its mean, while an R-squared equals one represents a model that explains all of the variation in the response variable around its mean. Usually, the larger the R2, the better the regression model fits our observations. In practice, we will never see a regression model with an R2 of 100%. In general, studies that try to explain human behavior like ours generally have R2 values less than 50%. Therefore, our model is a good fit. \n",
    "\n",
    "•\tAdj. R-squared: since R-squared tends to reward us for including too many independent variables in a regression model, and it doesn’t provide any incentive to stop adding more. Adjusted R-squared use different approaches to help us fight that impulse to add too many. The protection that adjusted R-squared provide is critical because too many terms in a model can produce results that you can’t trust. These statistics help us include the correct number of independent variables in our regression model. We use adjusted R-squared to compare the goodness-of-fit for regression models that contain differing numbers of independent variables. For instance, if we are comparing a model with five independent variables to a model with one variable and the five variable model has a higher R-squared. Is the model with five variables actually a better model, or does it just have more variables? To determine this, we need to compare the adjusted R-squared values. The adjusted R-squared adjusts for the number of variables in the model. Importantly, its value increases only when the new variable improves the model fit but starts to decrease when a new variable doesn’t improve the model fit by a sufficient amount. Hence, we won’t be interpreting the Adj. R-squared value now, we will in the next part when we implement a multiple linear regression. \n",
    "\n",
    "•\tThe F-statistic value in regression is the result of a test where the null hypothesis is that all of the regression coefficients are equal to zero. In other words, the f-test decides whether our added variables improve the model or not, usually a higher f-statistic is better.\n",
    "\n",
    "•\tProb(F-Statistic): This tells the overall significance of the regression. This is to assess the significance level of all the variables together unlike the t-statistic that measures it for individual variables. Usually when the value is closer to zero, it implies that overall the regressions is strong and meaningful.\n",
    "\n",
    "•\tAIC/BIC: It stands for Akaike’s Information Criteria and is used for model selection. It penalizes the errors mode in case a new variable is added to the regression equation. It is calculated as number of parameters minus the likelihood of the overall model. A lower AIC implies a better model. Whereas, BIC stands for Bayesian information criteria and is a variant of AIC where penalties are made more severe. In general, a lower BIC means that a model is considered to be more likely to be the true model. Our AIC and BIC is not that low which means that the model can get better. \n",
    "Log-likelihood values cannot be used alone as an index of fit because they are a function of sample size but can be used to compare the fit of different coefficients. Because we want to maximize the log-likelihood, the higher value is better. For example, a log-likelihood value of -3 is better than -7. We will discuss this more in the multiple linear regression Model.\n",
    "\n",
    "•\tCovariance type: In statistics, robust regression is a form of regression analysis designed to overcome some limitations of traditional parametric and non-parametric methods. OLS has favorable properties if its underlying assumptions are true, but can give misleading results if those assumptions are not true; thus, OLS is said to be not robust to violations of its assumptions. \n",
    "\n",
    "•\tThe t-statistic(t) is the coefficient divided by its standard error and is used in hypothesis testing via Student's t-test. The regression software compares the t statistic on our variable with values in the Student's t distribution to determine the P value, which is the number that we really need to be looking at. \n",
    "\n",
    "•\tOmnibus test whether the explained variance in a set of data is significantly greater than the unexplained variance, overall. One example is the F-test in the analysis of variance. There can be legitimate significant effects within a model even if the omnibus test is not significant. We usually hope to see a relatively small number. \n",
    "\n",
    "•\tProb(Omnibus) is one of the assumptions of OLS is that the errors are normally distributed. Omnibus test is performed in order to check this. Here, the null hypothesis is that the errors are normally distributed. Prob(Omnibus) is supposed to be close to 1 in order for it to satisfy the OLS assumption. In this case Prob(Omnibus) is 0.214, which is not perfect but is acceptable. \n",
    "\n",
    "•\tDurbin-watson: Another assumption of OLS is of homoscedasticity. This implies that the variance of errors is constant. A value between 1 to 2 is preferred. Here, it is ~2 implying that the regression results are acceptable from the interpretation side of this metric.\n",
    "\n",
    "•\tJarque-Bera (JB)/Prob(JB) should be in line with the Omnibus test. It is also performed for the distribution analysis of the regression errors. It is supposed to agree with the results of Omnibus test. \n",
    "\n",
    "•\tThe condition number (Cond. No.) measures the sensitivity of a function’s output to its input. When two predictor variables are highly correlated, which is called multicollinearity, the coefficients or factors of those predictor variables can fluctuate erratically for small changes in the data, or the model. Ideally, similar models should be similar. Multicollinearity can produce inaccurate results. We hope to see a relatively small number. \n",
    "\n",
    "•\tSkew is a measure of data symmetry. We want to see something close to zero, indicating the residual distribution is normal. This value also drives the Omnibus. This result has a small value, and therefore good, skew.\n",
    "\n",
    "•\tKurtosis is a measure of \"peakiness\", or curvature of the data. Higher peaks lead to greater Kurtosis. Greater Kurtosis can be interpreted as a tighter clustering of residuals around zero, implying a better model with few outliers.\n",
    "\n",
    "Overall our model is significant, it has a good R2 value, p value and Prob(F-Statistic) values are close to zero, The model also has a relatively small standard error. "
   ]
  },
  {
   "cell_type": "code",
   "execution_count": 26,
   "metadata": {},
   "outputs": [
    {
     "data": {
      "text/html": [
       "<div>\n",
       "<style scoped>\n",
       "    .dataframe tbody tr th:only-of-type {\n",
       "        vertical-align: middle;\n",
       "    }\n",
       "\n",
       "    .dataframe tbody tr th {\n",
       "        vertical-align: top;\n",
       "    }\n",
       "\n",
       "    .dataframe thead th {\n",
       "        text-align: right;\n",
       "    }\n",
       "</style>\n",
       "<table border=\"1\" class=\"dataframe\">\n",
       "  <thead>\n",
       "    <tr style=\"text-align: right;\">\n",
       "      <th></th>\n",
       "      <th>const</th>\n",
       "      <th>Visitors to locals ratio</th>\n",
       "    </tr>\n",
       "  </thead>\n",
       "  <tbody>\n",
       "    <tr>\n",
       "      <td>1</td>\n",
       "      <td>1.0</td>\n",
       "      <td>0.130334</td>\n",
       "    </tr>\n",
       "    <tr>\n",
       "      <td>26</td>\n",
       "      <td>1.0</td>\n",
       "      <td>0.518514</td>\n",
       "    </tr>\n",
       "    <tr>\n",
       "      <td>20</td>\n",
       "      <td>1.0</td>\n",
       "      <td>0.459392</td>\n",
       "    </tr>\n",
       "    <tr>\n",
       "      <td>16</td>\n",
       "      <td>1.0</td>\n",
       "      <td>0.033424</td>\n",
       "    </tr>\n",
       "    <tr>\n",
       "      <td>29</td>\n",
       "      <td>1.0</td>\n",
       "      <td>-0.026872</td>\n",
       "    </tr>\n",
       "  </tbody>\n",
       "</table>\n",
       "</div>"
      ],
      "text/plain": [
       "    const  Visitors to locals ratio\n",
       "1     1.0                  0.130334\n",
       "26    1.0                  0.518514\n",
       "20    1.0                  0.459392\n",
       "16    1.0                  0.033424\n",
       "29    1.0                 -0.026872"
      ]
     },
     "execution_count": 26,
     "metadata": {},
     "output_type": "execute_result"
    }
   ],
   "source": [
    "x_test = sm.add_constant(x1_test)\n",
    "x_test.head()"
   ]
  },
  {
   "cell_type": "code",
   "execution_count": 27,
   "metadata": {},
   "outputs": [],
   "source": [
    "lm = LinearRegression()\n",
    "lm.fit(x,y_train) \n",
    "predictions = lm.predict(x_test)"
   ]
  },
  {
   "cell_type": "code",
   "execution_count": 28,
   "metadata": {},
   "outputs": [
    {
     "data": {
      "text/html": [
       "<div>\n",
       "<style scoped>\n",
       "    .dataframe tbody tr th:only-of-type {\n",
       "        vertical-align: middle;\n",
       "    }\n",
       "\n",
       "    .dataframe tbody tr th {\n",
       "        vertical-align: top;\n",
       "    }\n",
       "\n",
       "    .dataframe thead th {\n",
       "        text-align: right;\n",
       "    }\n",
       "</style>\n",
       "<table border=\"1\" class=\"dataframe\">\n",
       "  <thead>\n",
       "    <tr style=\"text-align: right;\">\n",
       "      <th></th>\n",
       "      <th>Predictions</th>\n",
       "      <th>True</th>\n",
       "    </tr>\n",
       "  </thead>\n",
       "  <tbody>\n",
       "    <tr>\n",
       "      <td>1</td>\n",
       "      <td>6.497179</td>\n",
       "      <td>7.284047</td>\n",
       "    </tr>\n",
       "    <tr>\n",
       "      <td>26</td>\n",
       "      <td>6.888734</td>\n",
       "      <td>7.041393</td>\n",
       "    </tr>\n",
       "    <tr>\n",
       "      <td>20</td>\n",
       "      <td>6.829099</td>\n",
       "      <td>6.778151</td>\n",
       "    </tr>\n",
       "    <tr>\n",
       "      <td>16</td>\n",
       "      <td>6.399427</td>\n",
       "      <td>6.568202</td>\n",
       "    </tr>\n",
       "    <tr>\n",
       "      <td>29</td>\n",
       "      <td>6.338607</td>\n",
       "      <td>6.204120</td>\n",
       "    </tr>\n",
       "  </tbody>\n",
       "</table>\n",
       "</div>"
      ],
      "text/plain": [
       "    Predictions      True\n",
       "1      6.497179  7.284047\n",
       "26     6.888734  7.041393\n",
       "20     6.829099  6.778151\n",
       "16     6.399427  6.568202\n",
       "29     6.338607  6.204120"
      ]
     },
     "execution_count": 28,
     "metadata": {},
     "output_type": "execute_result"
    }
   ],
   "source": [
    "new = pd.DataFrame({'Predictions':predictions,'True':y_test})\n",
    "new.head()"
   ]
  },
  {
   "cell_type": "code",
   "execution_count": 29,
   "metadata": {},
   "outputs": [
    {
     "data": {
      "text/html": [
       "<div>\n",
       "<style scoped>\n",
       "    .dataframe tbody tr th:only-of-type {\n",
       "        vertical-align: middle;\n",
       "    }\n",
       "\n",
       "    .dataframe tbody tr th {\n",
       "        vertical-align: top;\n",
       "    }\n",
       "\n",
       "    .dataframe thead th {\n",
       "        text-align: right;\n",
       "    }\n",
       "</style>\n",
       "<table border=\"1\" class=\"dataframe\">\n",
       "  <thead>\n",
       "    <tr style=\"text-align: right;\">\n",
       "      <th></th>\n",
       "      <th>Predictions</th>\n",
       "      <th>True</th>\n",
       "    </tr>\n",
       "  </thead>\n",
       "  <tbody>\n",
       "    <tr>\n",
       "      <td>Predictions</td>\n",
       "      <td>1.000000</td>\n",
       "      <td>0.470636</td>\n",
       "    </tr>\n",
       "    <tr>\n",
       "      <td>True</td>\n",
       "      <td>0.470636</td>\n",
       "      <td>1.000000</td>\n",
       "    </tr>\n",
       "  </tbody>\n",
       "</table>\n",
       "</div>"
      ],
      "text/plain": [
       "             Predictions      True\n",
       "Predictions     1.000000  0.470636\n",
       "True            0.470636  1.000000"
      ]
     },
     "execution_count": 29,
     "metadata": {},
     "output_type": "execute_result"
    }
   ],
   "source": [
    "new.corr()"
   ]
  },
  {
   "cell_type": "code",
   "execution_count": 30,
   "metadata": {},
   "outputs": [
    {
     "name": "stderr",
     "output_type": "stream",
     "text": [
      "/Users/yasserimam/opt/anaconda3/lib/python3.7/site-packages/seaborn/regression.py:546: UserWarning:\n",
      "\n",
      "The `size` paramter has been renamed to `height`; please update your code.\n",
      "\n"
     ]
    },
    {
     "data": {
      "text/plain": [
       "<seaborn.axisgrid.FacetGrid at 0x133493250>"
      ]
     },
     "execution_count": 30,
     "metadata": {},
     "output_type": "execute_result"
    },
    {
     "data": {
      "image/png": "[encoded data removed]",
      "text/plain": [
       "<Figure size 504x504 with 1 Axes>"
      ]
     },
     "metadata": {
      "needs_background": "light"
     },
     "output_type": "display_data"
    }
   ],
   "source": [
    "sns.lmplot(x='True',y='Predictions',data=new,size=7)"
   ]
  },
  {
   "cell_type": "markdown",
   "metadata": {},
   "source": [
    "In this graph we are presenting the relationship between the true data we have and the prediction data resulted from the model, we can notice a positive but not strong correlation equals r = 0.47."
   ]
  },
  {
   "cell_type": "markdown",
   "metadata": {},
   "source": [
    "# Measuring Model Accuracy "
   ]
  },
  {
   "cell_type": "code",
   "execution_count": 34,
   "metadata": {},
   "outputs": [
    {
     "name": "stdout",
     "output_type": "stream",
     "text": [
      "MAE: 0.3264343452375157\n",
      "MSE: 0.1509610170639711\n",
      "RMSE: 0.38853702148440256\n"
     ]
    }
   ],
   "source": [
    "print('MAE:', metrics.mean_absolute_error(y_test, predictions))\n",
    "print('MSE:', metrics.mean_squared_error(y_test, predictions))\n",
    "print('RMSE:', np.sqrt(metrics.mean_squared_error(y_test, predictions)))"
   ]
  },
  {
   "cell_type": "markdown",
   "metadata": {},
   "source": [
    "\n",
    "1.Mean Absolute Error (MAE): measures the average magnitude of the errors in a set of predictions, without considering their direction. It’s the average over the test sample of the absolute differences between prediction and actual observation where all individual differences have equal weight, MAE does not indicate underperformance or overperformance of the model. Each residual contributes proportionally to the total amount of error, meaning that larger errors will contribute linearly to the overall error. A small MAE suggests the model is great at prediction, while a large MAE suggests that the model may have trouble in certain areas. A MAE of 0 means that the model is a perfect predictor of the outputs (but this will almost never happen). Our average error, MAE is 0.325, which means that our model is working good towards predicting but it can get better\n",
    "\n",
    "2.Mean Squared Error (MSE): it measures the average of the squares of the errors, that is, the average squared difference between the estimated values and the actual value. This ultimately means that outliers in our data will contribute to much higher total error in the MSE than they would the MAE, Our MSE= 0.15, which means it stands well against outliers. \n",
    "\n",
    "3.Root Mean Square Error (RMSE) is the standard deviation of the residuals (prediction errors). Residuals are a measure of how far from the regression line data points are; RMSE is a measure of how spread out these residuals are. In other words, it tells you how concentrated the data is around the line of best fit. \n",
    "\n",
    "Our error rate, RMSE = 0.388, usually any error rate bigger than 0.5 is considered as a bad prediction model, which means that our model is somewhat a good fit.\n"
   ]
  },
  {
   "cell_type": "markdown",
   "metadata": {},
   "source": [
    "## In the next part we will be exploring a Multiple Linear Regression"
   ]
  }
 ],
 "metadata": {
  "kernelspec": {
   "display_name": "Python 3",
   "language": "python",
   "name": "python3"
  },
  "language_info": {
   "codemirror_mode": {
    "name": "ipython",
    "version": 3
   },
   "file_extension": ".py",
   "mimetype": "text/x-python",
   "name": "python",
   "nbconvert_exporter": "python",
   "pygments_lexer": "ipython3",
   "version": "3.7.4"
  }
 },
 "nbformat": 4,
 "nbformat_minor": 2
}
